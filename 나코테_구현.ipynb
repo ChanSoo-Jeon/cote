{
  "nbformat": 4,
  "nbformat_minor": 0,
  "metadata": {
    "colab": {
      "provenance": []
    },
    "kernelspec": {
      "name": "python3",
      "display_name": "Python 3"
    },
    "language_info": {
      "name": "python"
    }
  },
  "cells": [
    {
      "cell_type": "markdown",
      "source": [
        "# 나코테 구현\n",
        "\n",
        "####상하좌우\n",
        "\n",
        "여행가 A는 N x N 크기의 정사각형 공간 위에 서 있다. 이 공간은 1 X 1 크기의 정사각형으로 나누어져 있따. 가장 왼쪽 위 좌표는 (1,1)이며, 가장 오른쪽 아래 좌표는 (N,N)에 해당한다. 여행가 A는 상, 하, 좌, 우 방향으로 이동할 수 있으며, 시작 좌표는 항상 (1,1)이다. 우리 앞에는 여행가 A가 이동할 계획이 적힌 계획서가 놓여져 있다. 계획서에는 하나의 줄에 띄어쓰기를 기준으로 하여 L, R, U, D 중 하나의 문자가 반복적으로 적혀 있다. 각 문자의 의미는 다음과 같다.\n",
        "* L : 왼쪽으로 한 칸 이동\n",
        "* R : 오른쪽으로 한 칸 이동\n",
        "* U : 위로 한 칸 이동\n",
        "* D : 아래로 한 칸 이동\n",
        "이때, 여행가 A가 N x N 크기의 정사각형 공간을 벗어나는 움직임은 무시된다.\n",
        "\n",
        "입력조건\n",
        "* 첫째 줄에 공간의 크기를 나타내는 N이 주어진다.\n",
        "* 둘쨰 줄에 여행가 A가 이동할 계획서 내용이 주어진다.\n",
        "* 첫째 줄에 여행가 A가 최종적으로 도착할 지점의 좌표 (X,Y)를 공백으로 구분하여 출력한다."
      ],
      "metadata": {
        "id": "J2iWbmn0kL44"
      }
    },
    {
      "cell_type": "code",
      "execution_count": 23,
      "metadata": {
        "colab": {
          "base_uri": "https://localhost:8080/"
        },
        "id": "BEfONCGkkJR3",
        "outputId": "7c85c1fd-50df-4696-a8a1-339b38498f48"
      },
      "outputs": [
        {
          "output_type": "stream",
          "name": "stdout",
          "text": [
            "3 4\n"
          ]
        }
      ],
      "source": [
        "n = int(input())\n",
        "x,y = 1,1   #시작 좌표\n",
        "plans = input().split()\n",
        "\n",
        "#L,R,U,D\n",
        "dx = [0,0,-1,1]\n",
        "dy = [-1,1,0,0]\n",
        "move_types = ['L','R','U','D']\n",
        "\n",
        "for plan in plans:\n",
        "  for i in range(len(move_types)): #좌우상하 인덱스 추출\n",
        "    if plan == move_types[i]:\n",
        "      nx = x + dx[i] \n",
        "      ny = y + dy[i]\n",
        "      \n",
        "\n",
        "  if nx < 1 or ny < 1 or nx > n or ny > n: #맵 벗어나면 continue\n",
        "    continue\n",
        "\n",
        "  x,y = nx, ny\n",
        "\n",
        "print(x,y)\n"
      ]
    },
    {
      "cell_type": "markdown",
      "source": [
        "#### 시각\n",
        "\n",
        "정수 N이 입력되면 00시 00분 00초부터 N시 59분 59초까지의 모든 시각 중에서 3이 하나라도 포함되는 모든 경우의 수를 구하는 프로그램.\n",
        "\n",
        "입력조건\n",
        "* 첫째 줄에 정수 N이 입력된다.\n",
        "\n",
        "출력조건\n",
        "* 00시00분00초부터 N시59분59초까지의 모든 시각 중에서 3이 하나라도 포함되는 모든 경우의 수를 출력한다."
      ],
      "metadata": {
        "id": "UdsOr1W1s_r7"
      }
    },
    {
      "cell_type": "code",
      "source": [
        "n = int(input())\n",
        "cnt = 0\n",
        "\n",
        "for i in range(n+1): \n",
        "  for j in range(60):\n",
        "    for k in range(60):\n",
        "      if \"3\" in str(i) + str(j) + str(k): \n",
        "        cnt +=1\n",
        "\n",
        "print(cnt)"
      ],
      "metadata": {
        "colab": {
          "base_uri": "https://localhost:8080/"
        },
        "id": "XNped7-Us_Hp",
        "outputId": "bd77a1c3-40dc-44bc-871e-d12206aa653c"
      },
      "execution_count": 25,
      "outputs": [
        {
          "output_type": "stream",
          "name": "stdout",
          "text": [
            "5\n",
            "11475\n"
          ]
        }
      ]
    },
    {
      "cell_type": "markdown",
      "source": [
        "#### 왕실의 나이트\n",
        "\n",
        "8 X 8의 좌표평면. 특정한 한 칸에 나이트가 서있다. 좌표 밖으로 나갈 수 없다. 2가지의 경우로 이동 가능\n",
        "1. 수평으로 두 칸 이동 뒤 수직으로 한 칸 이동\n",
        "2. 수직으로 두 칸 이동 뒤 수평으로 한 칸 이동\n",
        "\n",
        "나이트가 이동할 수 있는 경우의 수를 출력하는 프로그램.\n",
        "\n",
        "행 위치 : 1~8\n",
        "열 위치 : a ~ h\n",
        "\n",
        "입력조건 \n",
        "* 첫째 줄에 8 X 8 좌표 평면상에서 현재 나이트가 위치한 곳의 좌표를 나타내는 두 문자로 구성된 문자열이 입력된다. 입력 문자는 a1처럼 열과 행으로 이뤄진다.\n",
        "\n",
        "출력조건\n",
        "* 첫째 줄에 나이트가 이동할 수있는 경우의 수를 출력"
      ],
      "metadata": {
        "id": "SH0R3W4Xu47d"
      }
    },
    {
      "cell_type": "code",
      "source": [
        "start = input()\n",
        "row = int(start[1])\n",
        "col_dict = {'a':1,'b':2,'c':3,'d':4,'e':5,'f':6,'g':7,'h':8}  #column의 영어좌표를 dictionary화\n",
        "col = (col_dict[start[0]])  #입력받은 열좌표를 int화\n",
        "\n",
        "steps = [(-2,-1),(-1,-2),(2,-1),(1,-2),(-2,1),(-1,2),(2,1),(1,2)] #나이트가 이동할 수 있는 좌표들\n",
        "\n",
        "cnt = 0\n",
        "for step in steps:\n",
        "  next_row = row + step[0]\n",
        "  next_col = col + step[1]\n",
        "\n",
        "  if next_row >= 1 and next_row <= 8 and next_col >= 1 and next_col <= 8: #맵을 벗어나지 않는다면 count\n",
        "    cnt += 1\n",
        "\n",
        "print(cnt)"
      ],
      "metadata": {
        "colab": {
          "base_uri": "https://localhost:8080/"
        },
        "id": "Bll92R2Kus0f",
        "outputId": "3154a06c-a9ae-4299-db93-df1700e9dd65"
      },
      "execution_count": 33,
      "outputs": [
        {
          "output_type": "stream",
          "name": "stdout",
          "text": [
            "c2\n",
            "6\n"
          ]
        }
      ]
    },
    {
      "cell_type": "markdown",
      "source": [
        "#### 게임개발\n",
        "\n",
        "게임 캐릭터가 맵 안에서 움직이는 시스템을 개발 중이다. 캐릭터가 있는 장소는 1 X 1 크기의 정사각형으로 이루어진 N X M 크기의 직사각형으로, 각각의 칸은 육지 또는 바다이다. 캐릭터는 동서남북 중 한 곳을 바라본다.\n",
        "맵의 각 칸은 (A,B)로 나타낼 수 있다. \n",
        "\n",
        "A : 북쪽으로부터 떨어진 칸의 개수 \n",
        "\n",
        "B : 서쪽으로부터 떨어진 칸의 개수\n",
        " 캐릭터는 상하좌우로 움직일 수 있고, 바다로 되어 있는 공간에는 갈 수 없다.\n",
        "\n",
        "메뉴얼\n",
        "\n",
        "1. 현재 위치에서 현재 방향을 기준으로 왼쪽 방향부터 차례대로 갈 곳을 정한다.\n",
        "2. 캐릭터의 바로 왼쪽 방향에 아직 가보지 않은 칸이 존재한다면, 왼쪽 방향으로 회전한 다음 왼쪽으로 한 칸을 전진한다. 왼쪽 방향에 가보지 않은 칸이 없다면, 왼쪽 방향으로 회전만 수행하고 1단계로 돌아간다.\n",
        "3. 만약 네 방향 모두 이미 가본 칸이거나 바다로 되어 있는 칸인 경우에는, 바라보는 방향을 유지한 채로 한 칸 뒤로 가고 1단계로 돌아간다. 단, 이때 뒤쪽 방향이 바다인 칸이라 뒤로 갈 수 없는 경우에는 움직임을 멈춘다.\n",
        "\n",
        "입력조건\n",
        "* 첫째 줄에 맵의 세로 크기 N과 가로 크기 M을 공백으로 구분하여 입력한다. (3 <= N , M <= 50)\n",
        "* 둘째 줄에 게임 캐릭터가 있는 칸의 좌표 (A,B)와 바라보는 방향의 d가 각각 서로 공백으로 구분하여 주어진다. 방향 d의 값으로는 다음과 같이 4가지가 존재한다.\n",
        "- 0 : 북\n",
        "- 1 : 동\n",
        "- 2 : 남\n",
        "- 3 : 서\n",
        "* 셋째 줄부터 맵이 육지인지 바다인지에 대한 정보가 주어진다. N개의 줄에 맵의 상태가 북쪽부터 남쪽 순서대로, 각 줄의 데이터는 서쪽부터 동쪽 순서대로 주어진다. 맵의 외곽은 항상 바다로 되어있다.\n",
        "- 0 : 육지\n",
        "- 1 :바다\n",
        "* 처음에 게임 캐릭터가 위치한 칸의 상태는 항상 육지이다.\n",
        "\n",
        "출력조건\n",
        "* 첫쨰 줄에 이동을 마친 후 캐릭터가 방문한 칸의 수를 출력한다.\n"
      ],
      "metadata": {
        "id": "aWkYmOEc5QRD"
      }
    },
    {
      "cell_type": "code",
      "source": [
        "n,m = map(int,input().split())\n",
        "input_info = map(int,input().split())\n",
        "x,y,dir = input_info\n",
        "\n",
        "d = [[0]*m for _ in range(n)]   #맵 0으로 초기화\n",
        "d[x][y] = 1\n",
        "\n",
        "#맵 전체 정보 입력받기\n",
        "array = []\n",
        "for i in range(n):\n",
        "  array.append(list(map(int,input().split())))\n",
        "\n",
        "#북동남서\n",
        "dx = [-1,0,1,0]\n",
        "dy = [0,1,0,-1]\n",
        "\n",
        "# 북=0, 동=1, 남=2, 서=3\n",
        "def turn_left():\n",
        "  global dir\n",
        "  dir -= 1\n",
        "  if dir == -1: #북->서\n",
        "    dir = 3\n",
        "\n",
        "cnt = 1\n",
        "turn_time = 0 #바라보는 방향에 길이없을 경우 turn_time count\n",
        "while True:\n",
        "  turn_left()\n",
        "  nx = x + dx[dir]\n",
        "  ny = y + dy[dir]\n",
        "\n",
        "  if d[nx][ny] == 0 and array[nx][ny] == 0: #새로운 곳 and 육지라면\n",
        "    d[nx][ny] = 1\n",
        "    x = nx\n",
        "    y = ny\n",
        "    cnt += 1\n",
        "    turn_time = 0\n",
        "    continue\n",
        "  else: #가본곳이거나 바다라면 회전\n",
        "    turn_time += 1\n",
        "\n",
        "  if turn_time == 4: #4방향 전부 갈곳이 없다면 뒤로 이동\n",
        "    nx = x - dx[dir]\n",
        "    ny = y - dx[dir]\n",
        "\n",
        "    if array[nx][ny] == 0: #뒤로 이동한 곳이 육지라면\n",
        "      x = nx\n",
        "      y = ny\n",
        "\n",
        "    else: #뒤로 이동한곳이 바다라면 break\n",
        "      break\n",
        "    turn_time = 0 #turn_time 초기화\n",
        "\n",
        "print(cnt)"
      ],
      "metadata": {
        "colab": {
          "base_uri": "https://localhost:8080/"
        },
        "id": "6hv_v15T6wOs",
        "outputId": "fc9a447c-5e38-4604-c59c-8a5ecf234d53"
      },
      "execution_count": 51,
      "outputs": [
        {
          "output_type": "stream",
          "name": "stdout",
          "text": [
            "4 4\n",
            "1 1 0\n",
            "1 1 1 1\n",
            "1 0 0 1\n",
            "1 1 0 1\n",
            "1 1 1 1\n",
            "3\n"
          ]
        }
      ]
    }
  ]
}
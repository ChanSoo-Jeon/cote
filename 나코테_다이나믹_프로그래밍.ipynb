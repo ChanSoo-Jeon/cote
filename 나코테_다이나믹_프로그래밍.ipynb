{
  "nbformat": 4,
  "nbformat_minor": 0,
  "metadata": {
    "colab": {
      "provenance": []
    },
    "kernelspec": {
      "name": "python3",
      "display_name": "Python 3"
    },
    "language_info": {
      "name": "python"
    }
  },
  "cells": [
    {
      "cell_type": "markdown",
      "source": [
        "# 다이나믹 프로그래밍\n",
        "\n",
        "메모리 공간을 약간 더 사용하여 연산 속도를 비약적으로 증가시킬 수 있는 방법.\n"
      ],
      "metadata": {
        "id": "sArINdE5GyLI"
      }
    },
    {
      "cell_type": "code",
      "source": [
        "# 피보나치 함수를 재귀 함수로 구현\n",
        "def fibo(x):\n",
        "  if x == 1 or x ==2:\n",
        "    return 1\n",
        "  return fibo(x-1) + fibo(x-2)\n",
        "\n",
        "print(fibo(4))"
      ],
      "metadata": {
        "colab": {
          "base_uri": "https://localhost:8080/"
        },
        "id": "Rr0WC972HDUw",
        "outputId": "53f82848-4a9e-4268-cd5f-7726a2c9194c"
      },
      "execution_count": 1,
      "outputs": [
        {
          "output_type": "stream",
          "name": "stdout",
          "text": [
            "3\n"
          ]
        }
      ]
    },
    {
      "cell_type": "markdown",
      "source": [
        "피보나치를 재귀로 구현하면 $O(2^N)$의 시간복잡도를 갖는다.\n",
        "\n",
        "다이나믹 프로그래밍을 사용하여 더욱 효율적으로 문제를 해결할 수 있게 된다.\n",
        "\n",
        "하지만 조건을 충족해야 사용할 수 있다.\n",
        "\n",
        "\n",
        "#### 다이나믹 프로그래밍 조건\n",
        "\n",
        "* 큰 문제를 작은 문제로 나눌 수 있다.\n",
        "* 작은 문제에서 구한 정답은 그것을 포함하는 큰 문제에서도 동일하다.\n",
        "\n",
        "#### 메모이제이션 기법\n",
        "\n",
        "* 다이나믹 프로그래밍을 구현하는 방법 중 한 종류. 한 번 구한 결과를 메모리 공간에 메모해두고, 같은 식을 다시 호출하면 메모한 결과를 그대로 가져오는 기법. (=캐싱)\n",
        "\n",
        "메모이제이션 구현 방법 : \n",
        "\n",
        "* 한 번 구한 정보를 리스트에 저장. 다이나믹 프로그래밍을 재귀적으로 수행하다가 같은 정보가 필요할 떄는 이미 구한 정답을 그대로 리스트에서 가져온다."
      ],
      "metadata": {
        "id": "v2UhjpT_HAKP"
      }
    },
    {
      "cell_type": "code",
      "source": [
        "#한 번 계산된 결과를 메모이제이션하기 위한 리스트 초기화\n",
        "d = [0] * 100\n",
        "\n",
        "#피보나치 함수를 재귀함수로 구현(탑다운 다이나믹 프로그래밍)\n",
        "def fibo(x):\n",
        "  if x == 1 or x == 2:\n",
        "    return 1\n",
        "  #이미 계산한 적 있는 문제라면 그대로 반환\n",
        "  if d[x] != 0:\n",
        "    return d[x]\n",
        "  #아직 계산하지 않은 문제라면 점화식에 따라서 피보나치 결과 반환\n",
        "  d[x] = fibo(x-1) + fibo(x-2)\n",
        "  return d[x]\n",
        "\n",
        "print(fibo(99))"
      ],
      "metadata": {
        "colab": {
          "base_uri": "https://localhost:8080/"
        },
        "id": "9Mq70qRxKiSA",
        "outputId": "f5d3b341-24c5-405d-b786-792ef8f68c04"
      },
      "execution_count": 2,
      "outputs": [
        {
          "output_type": "stream",
          "name": "stdout",
          "text": [
            "218922995834555169026\n"
          ]
        }
      ]
    },
    {
      "cell_type": "markdown",
      "source": [
        "재귀 함수를 사용하면 컴퓨터 시스템에서는 함수를 다시 호출했을 때 메모리 상에 적재되는 일련의 과정을 따라야 하므로 오버헤드가 발생할 수 있다. 따라서 재귀 함수 대신 반복문을 사용하여 오버헤드를 줄일 수 있다. 일반적으로 반복문을 이용한 다이나믹 프로그래밍이 더 성능이 좋다.\n",
        "\n",
        "다이나믹 프로그래밍을 적용하여 구현한 피보나치 수열 알고리즘은 $O(N)$의  시간 복잡도를 갖는다."
      ],
      "metadata": {
        "id": "IPQMMNc7L8Xo"
      }
    },
    {
      "cell_type": "markdown",
      "source": [
        "#### 탑다운 방식 (상향식)\n",
        "\n",
        "재귀 함수를 이용하여 다이나믹 프로그래밍 소스코드를 작성하는 방법. -> 큰 문제를 \n",
        "해결하기 위해 작은 문제를 호출한다.\n",
        "\n",
        "메모제이션은 탑다운 방식에 국한되어 사용하는 표현. -> 이전에 계산된 결과를 일시적으로 기록해 놓는 넓은 개념을 의미\n",
        "\n",
        "#### 보텀업 방식 (하향식)\n",
        "\n",
        "반복문을 이.용하여 소스코드를 작성하는 방법 -> 작은 문제부터 차근차근 답을 도출한다."
      ],
      "metadata": {
        "id": "Dw2-TI14MyEv"
      }
    },
    {
      "cell_type": "code",
      "source": [
        "#피보나치 수열 소스코드(반복적)\n",
        "d = [0] * 100 #DP 테이블\n",
        "\n",
        "d[1] = 1\n",
        "d[2] = 1\n",
        "n = 99\n",
        "\n",
        "#피보나치 함수 반복문으로 구현(보텀업 다이나믹 프로그래밍)\n",
        "for i in range(3,n+1):\n",
        "  d[i] = d[i-1] + d[i-2]\n",
        "\n",
        "print(d[n])"
      ],
      "metadata": {
        "colab": {
          "base_uri": "https://localhost:8080/"
        },
        "id": "PljhjcDJMjny",
        "outputId": "7d5649a2-5869-4c77-c4a8-89d0d2f927bb"
      },
      "execution_count": 4,
      "outputs": [
        {
          "output_type": "stream",
          "name": "stdout",
          "text": [
            "0\n",
            "218922995834555169026\n"
          ]
        }
      ]
    },
    {
      "cell_type": "markdown",
      "source": [
        "#### 1로 만들기\n",
        "\n",
        "정수 X가 주어질 때 정수 X에 사용할 수 있는 연산은 다음과 같이 4가지이다.\n",
        "\n",
        "a. X가 5로 나누어 떨어지면, 5로 나눈다.\n",
        "\n",
        "b. X가 3으로 나누어 떨어지면, 3으로 나눈다.\n",
        "\n",
        "c. X가 2로 나누어 떨어지면, 2로 나눈다.\n",
        "\n",
        "d. X에서 1을 뺀다.\n",
        "\n",
        "정수 X가 주어졌을 때, 연산 4개를 적절히 사용해서 1을 만들려고 한다. 연산을 사용하는 횟수의 최솟값을 출력하시오.\n",
        "\n",
        "입력 조건\n",
        "* 첫째 줄에 정수 X가 주어진다. ($ 1 \\leq X \\leq 30,000$)\n",
        "* 첫째 줄에 연산을 하는 횟수의 최솟값을 출력한다."
      ],
      "metadata": {
        "id": "QTMiw1-yN_hp"
      }
    },
    {
      "cell_type": "code",
      "source": [
        "x = int(input())\n",
        "\n",
        "d = [0] * 30001\n",
        "#다이나믹 프로그래밍 진행(보텀업)\n",
        "for i in range(2,x+1):\n",
        "  # 각 경우에 +1을 해주는 이유 : 함수의 호출 횟수\n",
        "  #현재 수에서 1을 빼는 경우\n",
        "  d[i] = d[i-1] +1\n",
        "  \n",
        "\n",
        "  #현재의 수가 2로 나누어떨어지는 경우\n",
        "  if i % 2 == 0:\n",
        "    d[i] = min(d[i],d[i//2]+1)\n",
        "  #현재의 수가 3으로 나누어떨어지는 경우\n",
        "  if i % 3 == 0:\n",
        "    d[i] = min(d[i],d[i//3]+1)\n",
        "  #현재의 수가 5로 나누어떨어지는 경우\n",
        "  if i % 5 == 0:\n",
        "    d[i] = min(d[i],d[i //5]+1)\n",
        "\n",
        "print(d[x])"
      ],
      "metadata": {
        "colab": {
          "base_uri": "https://localhost:8080/"
        },
        "id": "Vi43vhm6PICe",
        "outputId": "cc07022b-4bd2-44e3-b153-f92a13a29de8"
      },
      "execution_count": 17,
      "outputs": [
        {
          "output_type": "stream",
          "name": "stdout",
          "text": [
            "24\n",
            "4\n"
          ]
        }
      ]
    },
    {
      "cell_type": "markdown",
      "source": [
        "#### 개미 전사\n",
        "\n",
        "개미 전사는 부족한 식량을 충당하고자 메뚜기 마을의 식량창고를 몰래 공격하려고 한다. 메뚜기 마을에는 여러 개의 식량 창고가 있는데 식량 창고는 일직선으로 이어져 있다. 각 식량창고에는 정해진 수의 식량을 저장하고 있으며 개미 전사는 식량창고를 선택적으로 약탈하여 식량을 빼앗는 예정이다. 이때 메뚜기 정찰병들은 일직선상에 존재하는 식량창고 중에서 서로 인접한 식량창고가 공격받으면 바로 알아챌 수 있다. 따라서 개미 전사가 정찰병에게 들키지 않고 식량창고를 약탈하기 위해서는 최소한 한 칸 이상 떨어진 식량 창고를 약탈해야 한다.\n",
        "\n",
        "개미 전사는 최대한 많은 식량을 얻기를 원한다. 개미 전사를 위해 식량창고 N개에 대한 정보가 주어졌을 떄 얻을 수 있는 식량의 최댓값을 구하는 프로그램.\n",
        "\n",
        "입력 조건\n",
        "* 첫쨰 줄에 식량창고의 개수 N이 주어진다. ($3 \\leq N \\leq 1,000$)\n",
        "* 둘째 줄에 공백으로 구분되어 각 식량창고에 저장된 식량의 개수 K가 주어진다. ($0 \\leq K \\leq$)\n",
        "\n",
        "출력 조건\n",
        "* 첫째 줄에 개미 전사가 얻을 수 있는 식량의 최댓값을 출력하시오\n",
        "\n"
      ],
      "metadata": {
        "id": "0wlkudA9gF2C"
      }
    },
    {
      "cell_type": "code",
      "source": [
        "n = int(input())\n",
        "\n",
        "arr = list(map(int,input().split()))\n",
        "\n",
        "d = [0] * 100\n",
        "\n",
        "#다이나믹 프로그래밍 진행(보텀업)\n",
        "d[0] = arr[0]\n",
        "d[1] = max(arr[0],arr[1])\n",
        "for i in range(2,n):\n",
        "  d[i] = max(d[i-1],d[i-2]+arr[i])\n",
        "\n",
        "print(d[n-1])"
      ],
      "metadata": {
        "colab": {
          "base_uri": "https://localhost:8080/"
        },
        "id": "U1B-65g9hEkC",
        "outputId": "014726d2-fd4f-48ca-dde3-acbd2e4ae2e0"
      },
      "execution_count": 22,
      "outputs": [
        {
          "output_type": "stream",
          "name": "stdout",
          "text": [
            "4\n",
            "1 3 1 5\n",
            "8\n"
          ]
        }
      ]
    },
    {
      "cell_type": "markdown",
      "source": [
        "#### 바닥 공사\n",
        "\n",
        "가로의 길이가 N, 세로의 길이가 2인 직사각형 형태의 얇은 바닥이 있다. 이 얇은 바닥을 1 X 2의 덮개, 2 X 1의 덮개, 2 X 2의 덮개를 이용해 채우고자 한다.\n",
        "이때 바닥을 채우는 모든 경우의 수를 구하는 프로그램.\n",
        "\n",
        "입력 조건\n",
        "* 첫째 줄에 N이 주어진다. ($1 \\leq N \\leq 1,000$)\n",
        "출력 조건\n",
        "* 첫쨰 줄에 2 X N 크기의 바닥을 채우는 방법의 수를 796,796으로 나눈 나머지를 출력한다.\n",
        "-> 결괏값이 굉장히 커질 수 있기 때문."
      ],
      "metadata": {
        "id": "OYNpLJxaizZ0"
      }
    },
    {
      "cell_type": "code",
      "source": [
        "\n",
        "n = int(input())\n",
        "d = [0] * 1001\n",
        "\n",
        "d[1] = 1\n",
        "d[2] = 3\n",
        "#다이나믹 프로그래밍 진행(보텀업)\n",
        "for i in range(3,n+1):\n",
        "  d[i] = (d[i-1]+2*d[i-2]) %796796\n",
        "\n",
        "print(d[n])"
      ],
      "metadata": {
        "colab": {
          "base_uri": "https://localhost:8080/"
        },
        "id": "kXoRg52Nju6j",
        "outputId": "72284b8e-ce60-49ea-8bfb-d7de6b785153"
      },
      "execution_count": 23,
      "outputs": [
        {
          "output_type": "stream",
          "name": "stdout",
          "text": [
            "3\n",
            "5\n"
          ]
        }
      ]
    },
    {
      "cell_type": "markdown",
      "source": [
        "#### 효율적인 화폐 구성\n",
        "\n",
        "M가지 종류의 화폐가 있다. 이 화폐들의 개수를 최소한으로 이용해서 그 가치의 합이 M원이 되도록 하려고 한다. 이때 각 화폐는 몇 개라도 사용할 수 있으며, 사용한 화폐의 구성은 같지만 순서만 다른 것은 같은 경우로 구분한다. \n",
        "\n",
        "입력 조건\n",
        "* 첫째 줄에 N,M이 주어진다. ($1 \\leq N \\leq 100, 1 \\leq M \\leq 10,000$)\n",
        "* 이후 N개의 줄에는 각 화폐의 가치가 주어진다. 화폐 가치는 10,000보다 작거나 같은 자연수이다.\n",
        "\n",
        "출력 조건\n",
        "* 첫째 줄에 M원을 만들기 위한 최소한의 화폐 개수를 출력한다.\n",
        "* 불가능할 떄는 -1을 출력한다."
      ],
      "metadata": {
        "id": "G3J9klO5k59r"
      }
    },
    {
      "cell_type": "code",
      "source": [
        "n,m = map(int,input().split())\n",
        "\n",
        "arr = []\n",
        "\n",
        "for i in range(n):\n",
        "  arr.append(int(input()))\n",
        "\n",
        "d = [10001] * (m+1)\n",
        "\n",
        "d[0] = 0\n",
        "#다이나믹 프로그래밍 진행(보텀업)\n",
        "for i in range(n):\n",
        "  for j in range(arr[i],m+1):\n",
        "    if d[j-arr[i]] != 10001: #(i-k)원을 만드는 방법이 존재하는 경우\n",
        "      d[j] = min(d[j],d[j-arr[i]]+1)\n",
        "\n",
        "if d[m] == 10001: #만드는 방법이 없는 경우\n",
        "  print(-1)\n",
        "else:\n",
        "  print(d[m])"
      ],
      "metadata": {
        "colab": {
          "base_uri": "https://localhost:8080/"
        },
        "id": "gaiElFVdleS7",
        "outputId": "3dfaed7e-c4d9-4ff4-a0a8-7d37a32b91f4"
      },
      "execution_count": 27,
      "outputs": [
        {
          "output_type": "stream",
          "name": "stdout",
          "text": [
            "2 15\n",
            "2\n",
            "3\n",
            "5\n"
          ]
        }
      ]
    }
  ]
}
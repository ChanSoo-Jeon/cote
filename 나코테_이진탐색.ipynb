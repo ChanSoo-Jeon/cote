{
  "nbformat": 4,
  "nbformat_minor": 0,
  "metadata": {
    "colab": {
      "provenance": []
    },
    "kernelspec": {
      "name": "python3",
      "display_name": "Python 3"
    },
    "language_info": {
      "name": "python"
    }
  },
  "cells": [
    {
      "cell_type": "markdown",
      "source": [
        "# 나코테 이진 탐색\n",
        "\n",
        "#### 순차 탐색\n",
        "\n",
        "리스트 안에 있는 특정한 데이터를 찾기 위해 앞에서부터 데이터를 하나씩 차례대로 확인하는 방법\n"
      ],
      "metadata": {
        "id": "2ViqbwM4qxCS"
      }
    },
    {
      "cell_type": "code",
      "execution_count": 1,
      "metadata": {
        "colab": {
          "base_uri": "https://localhost:8080/"
        },
        "id": "V7a5J8Sqqqz_",
        "outputId": "83835756-4ff2-4d00-a2ee-a808c0a89da5"
      },
      "outputs": [
        {
          "output_type": "stream",
          "name": "stdout",
          "text": [
            "생성할 원소 개수를 입력한 다음 한 칸 띄고 찾을 문자열을 입력하세요.\n",
            "5 Chansoo\n",
            "앞서 적은 원소 개수만큼 문자열을 입력하세요. 구분은 띄어쓰기 한 칸으로 합니다.\n",
            "Kwanwoo Jiheon Kyeongsik Chansoo Subin\n",
            "4\n"
          ]
        }
      ],
      "source": [
        "def sequential_search(n, target, arr):\n",
        "  #각 원소를 하나씩 확인\n",
        "  for i in range(n):\n",
        "    #현재의 원소가 찾고자 하는 원소와 동일한 경우\n",
        "    if arr[i] == target:\n",
        "      return i +1 #현재 위치의 인덱스 반환\n",
        "\n",
        "print(\"생성할 원소 개수를 입력한 다음 한 칸 띄고 찾을 문자열을 입력하세요.\")\n",
        "input_data = input().split()\n",
        "n = int(input_data[0])  #원소의 개수\n",
        "target = input_data[1]  #찾고자 하는 문자열\n",
        "\n",
        "print(\"앞서 적은 원소 개수만큼 문자열을 입력하세요. 구분은 띄어쓰기 한 칸으로 합니다.\")\n",
        "arr = input().split()\n",
        "\n",
        "print(sequential_search(n,target,arr))"
      ]
    },
    {
      "cell_type": "markdown",
      "source": [
        "#### 이진 탐색\n",
        "\n",
        "찾으려는 데이터와 중간점 위치에 있는 데이터를 반복적으로 비교하며 찾는 탐색"
      ],
      "metadata": {
        "id": "zoXcM-_Ar95h"
      }
    },
    {
      "cell_type": "code",
      "source": [
        "#재귀 활용\n",
        "def binary_search(arr,target,start,end):\n",
        "  if start > end:\n",
        "    return None\n",
        "  mid = (start + end) // 2\n",
        "  #찾은 경우 중간점 인덱스 반환\n",
        "  if arr[mid] == target:\n",
        "    return mid\n",
        "  #중간점의 값보다 찾고자 하는 값이 작은 경우 왼쪽 확인\n",
        "  elif arr[mid] > target:\n",
        "    return binary_search(arr,target,start,mid-1)\n",
        "  #중간점의 값보다 찾고자 하는 값이 큰 경우 오른쪽 확인\n",
        "  else:\n",
        "    return binary_search(arr,target,mid+1,end)\n",
        "\n",
        "n, target = list(map(int,input().split()))\n",
        "arr = list(map(int,input().split()))\n",
        "\n",
        "result = binary_search(arr,target,0,n-1)\n",
        "if result == None:\n",
        "  print(\"원소가 존재하지 않습니다.\")\n",
        "else:\n",
        "  print(result+1)  "
      ],
      "metadata": {
        "colab": {
          "base_uri": "https://localhost:8080/"
        },
        "id": "unG44UW9sDWr",
        "outputId": "710f2caa-ae7e-4148-a5a9-8f401b4e6109"
      },
      "execution_count": 2,
      "outputs": [
        {
          "output_type": "stream",
          "name": "stdout",
          "text": [
            "10 7\n",
            "1 3 5 7 9 11 13 15 17 19\n",
            "4\n"
          ]
        }
      ]
    },
    {
      "cell_type": "code",
      "source": [
        "# 반복문 활용\n",
        "def binary_search(arr,target,start,end):\n",
        "  while start <= end:\n",
        "    mid = (start + end) // 2\n",
        "    #찾은 경우 중간점 인덱스 반환\n",
        "    if arr[mid] == target:\n",
        "      return mid\n",
        "    #중간점의 값보다 찾고자 하는 값이 작은 경우 왼쪽 확인\n",
        "    elif arr[mid] > target:\n",
        "      end = mid-1\n",
        "    else:\n",
        "      start = mid +1\n",
        "  return None\n",
        "\n",
        "n, target = list(map(int,input().split()))\n",
        "arr = list(map(int,input().split()))\n",
        "\n",
        "result = binary_search(arr,target,0,n-1)\n",
        "if result == None:\n",
        "  print(\"원소가 존재하지 않습니다.\")\n",
        "else:\n",
        "  print(result+1)  \n"
      ],
      "metadata": {
        "colab": {
          "base_uri": "https://localhost:8080/"
        },
        "id": "lkwSPdGvs1_B",
        "outputId": "24128b79-4527-4687-c7f8-3c675781b7d5"
      },
      "execution_count": 3,
      "outputs": [
        {
          "output_type": "stream",
          "name": "stdout",
          "text": [
            "10 7\n",
            "1 3 5 6 9 11 13 15 17 19\n",
            "원소가 존재하지 않습니다.\n"
          ]
        }
      ]
    },
    {
      "cell_type": "markdown",
      "source": [
        "#### 부품 찾기\n",
        "\n",
        "부품이 N개 있다. 각 부품은 정수 형태의 고유한 번호가 있다. 어느 날 손님이 M개 종류의 부품을 대량으로 구매하겠다며 당일 날 견적서를 요청했다. 손님이 문의한 부품 M개 종류를 모두 확인해서 견적서를 작성해야 한다. 이때 가게 안에 부품이 모두 있는지 확인하는 프로그램\n",
        "\n",
        "입력 조건\n",
        "\n",
        "* 첫째 줄에 정수 N이 주어진다. ($1\\leq N \\leq1,000,000$)\n",
        "* 둘째 줄에는 공백으로 구분하여 N개의 정수가 주어진다. 이때 정수는 1보다 크고 1,000,000 이하이다.\n",
        "* 셋째 줄에는 정수 M이 주어진다. ($1 \\leq M \\leq 100,000$)\n",
        "* 넷째 줄에는 공백으로 구분하여 M개의 정수가 주어진다. 이때 정수는 1보다 크고 1,000,000 이하이다.\n",
        "\n",
        "출력 조건\n",
        "* 첫째 줄에 공백으로 구분하여 각 부품이 존재하면 yes를, 없으면 no를 출력한다."
      ],
      "metadata": {
        "id": "A_Bf7BBCtiYt"
      }
    },
    {
      "cell_type": "code",
      "source": [
        "#이진 탐색\n",
        "def binary_search(arr,target,start,end):\n",
        "  while start <= end:\n",
        "    mid = (start+end) // 2\n",
        "    if arr[mid] == target:\n",
        "      return mid\n",
        "    elif arr[mid] > target:\n",
        "      end = mid -1\n",
        "    else:\n",
        "      start = mid+1\n",
        "  return None\n",
        "#가게의 부품 개수\n",
        "n = int(input())\n",
        "#가게에 있는 전체 부품 번호를 공백으로 구분하여 입력\n",
        "arr = list(map(int,input().split()))\n",
        "#이진 탐색을 위한 정렬\n",
        "arr.sort()\n",
        "\n",
        "#손님이 확인 요청한 부품 개수 입력\n",
        "m = int(input())\n",
        "#손님이 확인요청한 전체 부품 번호를 공백으로 구분하여 입력\n",
        "x = list(map(int,input().split()))\n",
        "#손님이 확인 요청한 부품 번호를 하나씩 확인\n",
        "for i in x:\n",
        "  result = binary_search(arr,i,0,n-1)\n",
        "  if result != None:\n",
        "    print('yes',end=' ')\n",
        "  else:\n",
        "    print('no',end =' ')"
      ],
      "metadata": {
        "colab": {
          "base_uri": "https://localhost:8080/"
        },
        "id": "zFdTVfNFueN_",
        "outputId": "72a8ad65-dfaf-477a-ed1e-a84c0917cece"
      },
      "execution_count": 4,
      "outputs": [
        {
          "output_type": "stream",
          "name": "stdout",
          "text": [
            "5\n",
            "8 3 7 9 2\n",
            "3\n",
            "5 7 9\n",
            "no yes yes "
          ]
        }
      ]
    },
    {
      "cell_type": "code",
      "source": [
        "# 계수정렬\n",
        "n = int(input())\n",
        "arr = [0] * 1000001\n",
        "\n",
        "#가게에 있는 전체 부품 번호를 입력받아서 기록\n",
        "for i in input().split():\n",
        "  arr[int(i)]=1\n",
        "#손님이 확인 요청한 부품 개수\n",
        "m = int(input())\n",
        "#손님이 확인 요청한 전체 부품 번호를 공백으로 구분하여 입력\n",
        "x = list(map(int,input().split()))\n",
        "\n",
        "#손님이 확인 요청한 부품 번호를 하나씩 확인\n",
        "for i in x:\n",
        "  if arr[i] == 1:\n",
        "    print(\"yes\",end = ' ')\n",
        "  else:\n",
        "    print('no',end = ' ')"
      ],
      "metadata": {
        "colab": {
          "base_uri": "https://localhost:8080/"
        },
        "id": "EBO3aV5QwECU",
        "outputId": "b6633df6-32e8-4518-dd20-ab068e6ced28"
      },
      "execution_count": 5,
      "outputs": [
        {
          "output_type": "stream",
          "name": "stdout",
          "text": [
            "5\n",
            "8 3 7 9 2\n",
            "3\n",
            "5 7 9\n",
            "no yes yes "
          ]
        }
      ]
    },
    {
      "cell_type": "code",
      "source": [
        "#집합 자료형\n",
        "n = int(input())\n",
        "arr = set(map(int,input().split()))\n",
        "\n",
        "m = int(input())\n",
        "x = list(map(int,input().split()))\n",
        "\n",
        "for i in x:\n",
        "  if i in arr:\n",
        "    print(\"yes\",end = ' ')\n",
        "  else:\n",
        "    print('no',end=' ')"
      ],
      "metadata": {
        "colab": {
          "base_uri": "https://localhost:8080/"
        },
        "id": "V69f4AzVwm0d",
        "outputId": "5e4bd463-0c6d-415b-a1d9-07367ed36b3f"
      },
      "execution_count": 6,
      "outputs": [
        {
          "output_type": "stream",
          "name": "stdout",
          "text": [
            "5\n",
            "8 3 7 9 2\n",
            "3\n",
            "5 7 9\n",
            "no yes yes "
          ]
        }
      ]
    },
    {
      "cell_type": "markdown",
      "source": [
        "#### 떡볶이 떡 만들기\n",
        "\n",
        "절단기에 높이(H)를 지정하여 줄지어진 떡을 한 번에 절단한다. 높이가 H보다 긴 떡은 H 위의 부분이 잘리고, 낮은 떡은 잘리지 않는다.\n",
        "\n",
        "예를 들어 높이가 19,14,10,17cm인 떡이 있고, 절단기의 높이를 15cm로 지정하면 자른 뒤 떡의 높이는 15,14,10,15cm가 된다. 잘린 떡의 길이는 차례대로 4,0,0,2cm이다.\n",
        "손님이 왔을 때 요청한 총 길이가 M일 때 적어도 M만큼의 떡을 얻기 위해 절단기에 설정할 수 있는 높이의 최댓값을 구하는 프로그램.\n",
        "\n",
        "입력 조건\n",
        "* 첫째 줄에 떡의 개수 N과 요청한 떡의 길이 M이 주어진다. ($1 \\leq N \\leq 1,000,000. 1 \\leq M \\leq 2,000,000,000$)\n",
        "* 둘째 줄에는 떡의 개별 높이가 주어진다. 떡 높이의 총합은 항상 M 이상이므로, 손님은 필요한 양만큼 떡을 사갈 수 있다. 높이는 10억보다 작거나 같은 양의 정수 또는 0이다.\n",
        "\n",
        "출력 조건\n",
        "* 적어도 M만큼의 떡을 집에 가져가기 위해 절단기에 설정할 수 있는 높이의 최댓값을 출력한다."
      ],
      "metadata": {
        "id": "J2Sldo6cw6Tw"
      }
    },
    {
      "cell_type": "markdown",
      "source": [
        "파라메트릭 서치 유형 문제. -> 조건의 범위가 넓다면 이진 탐색을 제일 먼저 떠올려야 한다. -> 순차 탐색은 시간을 초과하게 될 것."
      ],
      "metadata": {
        "id": "XNG17IelyWgT"
      }
    },
    {
      "cell_type": "code",
      "source": [
        "# 떡의 개수와 요청한 떡의 길이 입력\n",
        "n,m = list(map(int,input().split(' ')))\n",
        "#각 떡의 개별 높이 정보 입력\n",
        "arr = list(map(int,input().split()))\n",
        "\n",
        "start = 0\n",
        "end = max(arr)\n",
        "\n",
        "result = 0\n",
        "while(start <= end):\n",
        "  total = 0\n",
        "  mid = (start + end) //2\n",
        "  for x in arr:\n",
        "    #잘랐을 때의 떡의 양 계산\n",
        "    if x> mid:\n",
        "      total += x - mid\n",
        "  #떡의 양이 부족한 경우 더 많이 자르기(왼쪽 부분 탐색)    \n",
        "  if total < m:\n",
        "    end = mid-1\n",
        "  #떡의 양이 충분한 경우 덜 자르기(오른쪽 부분 탐색)\n",
        "  else:\n",
        "    result = mid  #최대한 덜 잘랐을 때가 정답.\n",
        "    start = mid+1\n",
        "\n",
        "print(result)\n",
        "    "
      ],
      "metadata": {
        "colab": {
          "base_uri": "https://localhost:8080/"
        },
        "id": "N_QZkbgLx8Jt",
        "outputId": "04332e47-2063-4e0f-a44e-7e3317aa4213"
      },
      "execution_count": 10,
      "outputs": [
        {
          "output_type": "stream",
          "name": "stdout",
          "text": [
            "4 6\n",
            "19 15 10 17\n",
            "15\n"
          ]
        }
      ]
    }
  ]
}
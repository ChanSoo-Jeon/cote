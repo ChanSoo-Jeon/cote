{
  "nbformat": 4,
  "nbformat_minor": 0,
  "metadata": {
    "colab": {
      "provenance": []
    },
    "kernelspec": {
      "name": "python3",
      "display_name": "Python 3"
    },
    "language_info": {
      "name": "python"
    }
  },
  "cells": [
    {
      "cell_type": "markdown",
      "source": [
        "# 스택 예제\n",
        "\n",
        "#### 순서 : 삽입(5) - 삽입(2) - 삽입(3) - 삽입(7) - 삭제() - 삽입(1) - 삽입(4) - 삭제()"
      ],
      "metadata": {
        "id": "_zgQ5Vm1eldc"
      }
    },
    {
      "cell_type": "code",
      "execution_count": 1,
      "metadata": {
        "colab": {
          "base_uri": "https://localhost:8080/"
        },
        "id": "C1tMBvJQeVUa",
        "outputId": "bdbb400b-965e-4e9e-fa7e-bcd2607988d5"
      },
      "outputs": [
        {
          "output_type": "stream",
          "name": "stdout",
          "text": [
            "[5, 2, 3, 1]\n",
            "[1, 3, 2, 5]\n"
          ]
        }
      ],
      "source": [
        "stack = []\n",
        "\n",
        "stack.append(5)\n",
        "stack.append(2)\n",
        "stack.append(3)\n",
        "stack.append(7)\n",
        "stack.pop()\n",
        "stack.append(1)\n",
        "stack.append(4)\n",
        "stack.pop()\n",
        "\n",
        "print(stack)  #최하단 원소부터 출력\n",
        "print(stack[::-1])  #최상단 원소부터 출력"
      ]
    },
    {
      "cell_type": "markdown",
      "source": [
        "# 큐 예제\n",
        "\n",
        "#### 순서 : 삽입(5) - 삽입(2) - 삽입(3) - 삽입(7) - 삭제() - 삽입(1) - 삽입(4) - 삭제()\n"
      ],
      "metadata": {
        "id": "MywDtUuAe9oG"
      }
    },
    {
      "cell_type": "code",
      "source": [
        "from collections import deque\n",
        "\n",
        "queue = deque()\n",
        "\n",
        "queue.append(5)\n",
        "queue.append(2)\n",
        "queue.append(3)\n",
        "queue.append(7)\n",
        "queue.popleft()\n",
        "queue.append(1)\n",
        "queue.append(4)\n",
        "queue.popleft()\n",
        "\n",
        "print(queue)  #먼저 들어온 순서대로 출력\n",
        "queue.reverse()  #다음 출력을 위해 역순으로 바꾸기\n",
        "print(queue)  #나중에 들어온 원소부터 출력"
      ],
      "metadata": {
        "colab": {
          "base_uri": "https://localhost:8080/"
        },
        "id": "efhcNGNufZ5f",
        "outputId": "d6e3718d-7863-41b9-d2bd-d6c64b7aaaf3"
      },
      "execution_count": 2,
      "outputs": [
        {
          "output_type": "stream",
          "name": "stdout",
          "text": [
            "deque([3, 7, 1, 4])\n",
            "deque([4, 1, 7, 3])\n"
          ]
        }
      ]
    },
    {
      "cell_type": "markdown",
      "source": [
        "# 재귀 함수 예제\n"
      ],
      "metadata": {
        "id": "2YSWFOtwf6Pw"
      }
    },
    {
      "cell_type": "code",
      "source": [
        "def recursive_function(i):\n",
        "  #100번째 출력했을 때, 종료되도록 종료 조건 명시\n",
        "  if i == 100:\n",
        "    return print(i,\"번째 재귀 함수 종료\")\n",
        "  else:\n",
        "    print(i, \"번째 재귀 함수에서\", i+1, \"번째 재귀 함수 호출\")\n",
        "    recursive_function(i+1)\n",
        "    \n",
        "\n",
        "recursive_function(1)"
      ],
      "metadata": {
        "colab": {
          "base_uri": "https://localhost:8080/"
        },
        "id": "fsQC5ZOmf-nJ",
        "outputId": "0110eebb-07cd-42e9-b9e7-11f8aa3280b0"
      },
      "execution_count": 17,
      "outputs": [
        {
          "output_type": "stream",
          "name": "stdout",
          "text": [
            "1 번째 재귀 함수에서 2 번째 재귀 함수 호출\n",
            "2 번째 재귀 함수에서 3 번째 재귀 함수 호출\n",
            "3 번째 재귀 함수에서 4 번째 재귀 함수 호출\n",
            "4 번째 재귀 함수에서 5 번째 재귀 함수 호출\n",
            "5 번째 재귀 함수에서 6 번째 재귀 함수 호출\n",
            "6 번째 재귀 함수에서 7 번째 재귀 함수 호출\n",
            "7 번째 재귀 함수에서 8 번째 재귀 함수 호출\n",
            "8 번째 재귀 함수에서 9 번째 재귀 함수 호출\n",
            "9 번째 재귀 함수에서 10 번째 재귀 함수 호출\n",
            "10 번째 재귀 함수에서 11 번째 재귀 함수 호출\n",
            "11 번째 재귀 함수에서 12 번째 재귀 함수 호출\n",
            "12 번째 재귀 함수에서 13 번째 재귀 함수 호출\n",
            "13 번째 재귀 함수에서 14 번째 재귀 함수 호출\n",
            "14 번째 재귀 함수에서 15 번째 재귀 함수 호출\n",
            "15 번째 재귀 함수에서 16 번째 재귀 함수 호출\n",
            "16 번째 재귀 함수에서 17 번째 재귀 함수 호출\n",
            "17 번째 재귀 함수에서 18 번째 재귀 함수 호출\n",
            "18 번째 재귀 함수에서 19 번째 재귀 함수 호출\n",
            "19 번째 재귀 함수에서 20 번째 재귀 함수 호출\n",
            "20 번째 재귀 함수에서 21 번째 재귀 함수 호출\n",
            "21 번째 재귀 함수에서 22 번째 재귀 함수 호출\n",
            "22 번째 재귀 함수에서 23 번째 재귀 함수 호출\n",
            "23 번째 재귀 함수에서 24 번째 재귀 함수 호출\n",
            "24 번째 재귀 함수에서 25 번째 재귀 함수 호출\n",
            "25 번째 재귀 함수에서 26 번째 재귀 함수 호출\n",
            "26 번째 재귀 함수에서 27 번째 재귀 함수 호출\n",
            "27 번째 재귀 함수에서 28 번째 재귀 함수 호출\n",
            "28 번째 재귀 함수에서 29 번째 재귀 함수 호출\n",
            "29 번째 재귀 함수에서 30 번째 재귀 함수 호출\n",
            "30 번째 재귀 함수에서 31 번째 재귀 함수 호출\n",
            "31 번째 재귀 함수에서 32 번째 재귀 함수 호출\n",
            "32 번째 재귀 함수에서 33 번째 재귀 함수 호출\n",
            "33 번째 재귀 함수에서 34 번째 재귀 함수 호출\n",
            "34 번째 재귀 함수에서 35 번째 재귀 함수 호출\n",
            "35 번째 재귀 함수에서 36 번째 재귀 함수 호출\n",
            "36 번째 재귀 함수에서 37 번째 재귀 함수 호출\n",
            "37 번째 재귀 함수에서 38 번째 재귀 함수 호출\n",
            "38 번째 재귀 함수에서 39 번째 재귀 함수 호출\n",
            "39 번째 재귀 함수에서 40 번째 재귀 함수 호출\n",
            "40 번째 재귀 함수에서 41 번째 재귀 함수 호출\n",
            "41 번째 재귀 함수에서 42 번째 재귀 함수 호출\n",
            "42 번째 재귀 함수에서 43 번째 재귀 함수 호출\n",
            "43 번째 재귀 함수에서 44 번째 재귀 함수 호출\n",
            "44 번째 재귀 함수에서 45 번째 재귀 함수 호출\n",
            "45 번째 재귀 함수에서 46 번째 재귀 함수 호출\n",
            "46 번째 재귀 함수에서 47 번째 재귀 함수 호출\n",
            "47 번째 재귀 함수에서 48 번째 재귀 함수 호출\n",
            "48 번째 재귀 함수에서 49 번째 재귀 함수 호출\n",
            "49 번째 재귀 함수에서 50 번째 재귀 함수 호출\n",
            "50 번째 재귀 함수에서 51 번째 재귀 함수 호출\n",
            "51 번째 재귀 함수에서 52 번째 재귀 함수 호출\n",
            "52 번째 재귀 함수에서 53 번째 재귀 함수 호출\n",
            "53 번째 재귀 함수에서 54 번째 재귀 함수 호출\n",
            "54 번째 재귀 함수에서 55 번째 재귀 함수 호출\n",
            "55 번째 재귀 함수에서 56 번째 재귀 함수 호출\n",
            "56 번째 재귀 함수에서 57 번째 재귀 함수 호출\n",
            "57 번째 재귀 함수에서 58 번째 재귀 함수 호출\n",
            "58 번째 재귀 함수에서 59 번째 재귀 함수 호출\n",
            "59 번째 재귀 함수에서 60 번째 재귀 함수 호출\n",
            "60 번째 재귀 함수에서 61 번째 재귀 함수 호출\n",
            "61 번째 재귀 함수에서 62 번째 재귀 함수 호출\n",
            "62 번째 재귀 함수에서 63 번째 재귀 함수 호출\n",
            "63 번째 재귀 함수에서 64 번째 재귀 함수 호출\n",
            "64 번째 재귀 함수에서 65 번째 재귀 함수 호출\n",
            "65 번째 재귀 함수에서 66 번째 재귀 함수 호출\n",
            "66 번째 재귀 함수에서 67 번째 재귀 함수 호출\n",
            "67 번째 재귀 함수에서 68 번째 재귀 함수 호출\n",
            "68 번째 재귀 함수에서 69 번째 재귀 함수 호출\n",
            "69 번째 재귀 함수에서 70 번째 재귀 함수 호출\n",
            "70 번째 재귀 함수에서 71 번째 재귀 함수 호출\n",
            "71 번째 재귀 함수에서 72 번째 재귀 함수 호출\n",
            "72 번째 재귀 함수에서 73 번째 재귀 함수 호출\n",
            "73 번째 재귀 함수에서 74 번째 재귀 함수 호출\n",
            "74 번째 재귀 함수에서 75 번째 재귀 함수 호출\n",
            "75 번째 재귀 함수에서 76 번째 재귀 함수 호출\n",
            "76 번째 재귀 함수에서 77 번째 재귀 함수 호출\n",
            "77 번째 재귀 함수에서 78 번째 재귀 함수 호출\n",
            "78 번째 재귀 함수에서 79 번째 재귀 함수 호출\n",
            "79 번째 재귀 함수에서 80 번째 재귀 함수 호출\n",
            "80 번째 재귀 함수에서 81 번째 재귀 함수 호출\n",
            "81 번째 재귀 함수에서 82 번째 재귀 함수 호출\n",
            "82 번째 재귀 함수에서 83 번째 재귀 함수 호출\n",
            "83 번째 재귀 함수에서 84 번째 재귀 함수 호출\n",
            "84 번째 재귀 함수에서 85 번째 재귀 함수 호출\n",
            "85 번째 재귀 함수에서 86 번째 재귀 함수 호출\n",
            "86 번째 재귀 함수에서 87 번째 재귀 함수 호출\n",
            "87 번째 재귀 함수에서 88 번째 재귀 함수 호출\n",
            "88 번째 재귀 함수에서 89 번째 재귀 함수 호출\n",
            "89 번째 재귀 함수에서 90 번째 재귀 함수 호출\n",
            "90 번째 재귀 함수에서 91 번째 재귀 함수 호출\n",
            "91 번째 재귀 함수에서 92 번째 재귀 함수 호출\n",
            "92 번째 재귀 함수에서 93 번째 재귀 함수 호출\n",
            "93 번째 재귀 함수에서 94 번째 재귀 함수 호출\n",
            "94 번째 재귀 함수에서 95 번째 재귀 함수 호출\n",
            "95 번째 재귀 함수에서 96 번째 재귀 함수 호출\n",
            "96 번째 재귀 함수에서 97 번째 재귀 함수 호출\n",
            "97 번째 재귀 함수에서 98 번째 재귀 함수 호출\n",
            "98 번째 재귀 함수에서 99 번째 재귀 함수 호출\n",
            "99 번째 재귀 함수에서 100 번째 재귀 함수 호출\n",
            "100 번째 재귀 함수 종료\n"
          ]
        }
      ]
    },
    {
      "cell_type": "markdown",
      "source": [
        "# 2가지 방식으로 구현한 팩토리얼 예제"
      ],
      "metadata": {
        "id": "9fKSWFe2hcfM"
      }
    },
    {
      "cell_type": "code",
      "source": [
        "def factorial_iterative(n):\n",
        "  result = 1\n",
        "  # 1부터 n까지의 수를 차례대로 곱하기\n",
        "  for i in range(1,n+1):\n",
        "    result *= i\n",
        "  return result\n",
        "\n",
        "# 재귀적으로 구현한 n!\n",
        "def factorial_recursive(n):\n",
        "  if n <= 1:  #n이 1 이하인 경우 1을 반환\n",
        "    return 1\n",
        "  # n! = n* (n-1)!을 그대로 코드로 작성\n",
        "  return n * factorial_recursive(n-1)\n",
        "\n",
        "print(\"반복적으로 구현:\",factorial_iterative(5))\n",
        "print(\"재귀적으로 구현\",factorial_recursive(5))\n"
      ],
      "metadata": {
        "colab": {
          "base_uri": "https://localhost:8080/"
        },
        "id": "x1c01CVEhic5",
        "outputId": "f3b95762-c0c3-4e26-c77d-560eae996b07"
      },
      "execution_count": 18,
      "outputs": [
        {
          "output_type": "stream",
          "name": "stdout",
          "text": [
            "반복적으로 구현: 120\n",
            "재귀적으로 구현 120\n"
          ]
        }
      ]
    },
    {
      "cell_type": "markdown",
      "source": [
        "# 인접 행렬 방식 예제"
      ],
      "metadata": {
        "id": "tdJZ8GiRiQAB"
      }
    },
    {
      "cell_type": "code",
      "source": [
        "INF = 9999999999 #무한의 비용 선언\n",
        "\n",
        "# 2차원 리스트를 이용해 인접 행렬 표현\n",
        "graph = [[0,7,5],[7,0,INF],[5,INF,0]]\n",
        "\n",
        "print(graph)"
      ],
      "metadata": {
        "colab": {
          "base_uri": "https://localhost:8080/"
        },
        "id": "JXgjJd6Wijcu",
        "outputId": "a1ca5429-f0be-41f3-d3f0-bfed4fb6777d"
      },
      "execution_count": 19,
      "outputs": [
        {
          "output_type": "stream",
          "name": "stdout",
          "text": [
            "[[0, 7, 5], [7, 0, 9999999999], [5, 9999999999, 0]]\n"
          ]
        }
      ]
    },
    {
      "cell_type": "markdown",
      "source": [
        "# 인접 리스트 방식 예제"
      ],
      "metadata": {
        "id": "hxuPu_3XjB3R"
      }
    },
    {
      "cell_type": "code",
      "source": [
        "# row가 3개인 2차운 리스트로 인접 리스트 표현\n",
        "graph = [[] for _ in range(3)]\n",
        "\n",
        "#노드 0에 연결된 노드 정보 저장(노드, 거리)\n",
        "graph[0].append((1,7))\n",
        "graph[0].append((2,5))\n",
        "\n",
        "#노드 1에 연결된 노드 정보 저장(노드, 거리)\n",
        "graph[1].append((0,7))\n",
        "\n",
        "#노드 2에 연결된 노드 정보 저장(노드, 거리)\n",
        "graph[2].append((0,5))\n",
        "\n",
        "print(graph)"
      ],
      "metadata": {
        "colab": {
          "base_uri": "https://localhost:8080/"
        },
        "id": "3p2Lmnqoi_T3",
        "outputId": "a292e9d8-132a-479e-ef47-68f22a65022a"
      },
      "execution_count": 21,
      "outputs": [
        {
          "output_type": "stream",
          "name": "stdout",
          "text": [
            "[[(1, 7), (2, 5)], [(0, 7)], [(0, 5)]]\n"
          ]
        }
      ]
    },
    {
      "cell_type": "markdown",
      "source": [
        "# DFS 예제"
      ],
      "metadata": {
        "id": "nZGalpSH36Kc"
      }
    },
    {
      "cell_type": "code",
      "source": [
        "def dfs(graph,v,visited):\n",
        "  #현재 노드들 방문 처리\n",
        "  visited[v] = True\n",
        "  print(v,end=' ')\n",
        "  #현재 노드와 연결된 다른 노드를 재귀적으로 방문\n",
        "  for i in graph[v]:\n",
        "    if not visited[i]:\n",
        "      dfs(graph,i,visited)\n",
        "\n",
        "#각 노드가 연결된 정보를 리스트 자료형으로 표현 (2차원 리스트)\n",
        "graph = [[],[2,3,8],[1,7],[1,4,5],[3,5],[3,4],[7],[2,6,8],[1,7]]\n",
        "# 각 노드가 방문된 정보를 리스트 자료형으로 표현 (1차원 리스트)\n",
        "visited = [False] * 9\n",
        "\n",
        "dfs(graph,1,visited)"
      ],
      "metadata": {
        "colab": {
          "base_uri": "https://localhost:8080/"
        },
        "id": "efkyjZN04coY",
        "outputId": "70a69c17-2fa9-43ad-83fc-a47864aae939"
      },
      "execution_count": 24,
      "outputs": [
        {
          "output_type": "stream",
          "name": "stdout",
          "text": [
            "1 2 7 6 8 3 4 5 "
          ]
        }
      ]
    },
    {
      "cell_type": "markdown",
      "source": [
        "# BFS 예제"
      ],
      "metadata": {
        "id": "CqsKRogS5g_Y"
      }
    },
    {
      "cell_type": "code",
      "source": [
        "from collections import deque\n",
        "\n",
        "def bfs(graph, start, visited):\n",
        "  queue = deque([start])\n",
        "  #현재 노드 방문 처리\n",
        "  visited[start] = True\n",
        "\n",
        "  #큐가 빌 떄까지 반복\n",
        "  while queue:\n",
        "    #큐에서 하나의 원소를 뽑아 출력\n",
        "    v = queue.popleft()\n",
        "    print(v, end = ' ')\n",
        "    #해당 원소와 연결된, 아직 방문하지 않은 원소들을 큐에 삽임\n",
        "    for i in graph[v]:\n",
        "      if not visited[i]:\n",
        "        queue.append(i)\n",
        "        visited[i] = True\n",
        "\n",
        "  #각 노드가 연결된 정보를 리스트 자료형으로 표현(2차원 리스트)\n",
        "graph = [[],[2,3,8],[1,7],[1,4,5],[3,5],[3,4],[7],[2,6,8],[1,7]]\n",
        "\n",
        "# 각 노드가 방문된 정보를 리스트 자료형으로 표현(1차원 리스트)\n",
        "visited = [False] * 9\n",
        "\n",
        "bfs(graph,1,visited)\n",
        "\n"
      ],
      "metadata": {
        "colab": {
          "base_uri": "https://localhost:8080/"
        },
        "id": "ZEg9nwPI5JDr",
        "outputId": "d752f5d3-71a2-436d-cc5c-b4fd55ccce2e"
      },
      "execution_count": 27,
      "outputs": [
        {
          "output_type": "stream",
          "name": "stdout",
          "text": [
            "1 2 3 8 7 4 5 6 "
          ]
        }
      ]
    },
    {
      "cell_type": "markdown",
      "source": [
        "# 음료수 얼려 먹기\n",
        "\n",
        "#### N X M 크기의 얼음 틀이 있다. 구멍이 뚫려 있는 부분은 0, 칸막이가 존재하는 부분은 1로 표시된다. 구멍이 뚫려 있는 부분끼리 상, 하, 좌, 우로 붙어 있는 경우 서로 연결되어 있는 것으로 간주한다. 이때 얼음 틀의 모양이 주어졌을 떄 생성되는 총 아이스크림의 개수를 구하는 프로그램을 작성해라.\n",
        "\n",
        "입력 조건\n",
        "\n",
        "* 첫 번째 줄에 얼음 틀의 세로 길이 B과 가로 길이 M이 주어진다. (1<=N, M<=1000)\n",
        "* 두 번쨰 줄부터 N + 1 번째 줄까지 얼음 틀의 형태가 주어진다.\n",
        "* 이때 구멍이 뚫려있는 부분은 0, 그렇지 않은 부분은 1이다.\n",
        "\n",
        "출력조건\n",
        "\n",
        "* 한 번에 만들 수 있는 아이스크림의 개수를 출력한다."
      ],
      "metadata": {
        "id": "qo4dYKa96ln8"
      }
    },
    {
      "cell_type": "code",
      "source": [
        "n, m = map(int,(input().split()))\n",
        "\n",
        "graph = []\n",
        "for i in range(n):\n",
        "  graph.append(list(map(int,input())))\n",
        "\n",
        "def dfs(x,y):\n",
        "  #주어진 범위를 벗어나는 경우에는 즉시 종료\n",
        "  if x <= -1 or x >= n or y <= -1 or y >= m:\n",
        "    return False\n",
        "\n",
        "  if graph[x][y] == 0:  #현재 노드를 아직 방문하지 않았다면\n",
        "    graph[x][y] = 1  #해당 노드 방문 처리\n",
        "    #상, 하, 좌, 우의 위치도 모두 재귀적으로 호출\n",
        "    dfs(x-1,y)\n",
        "    dfs(x,y-1)\n",
        "    dfs(x+1,y)\n",
        "    dfs(x,y+1)\n",
        "    return True\n",
        "  return False\n",
        "\n",
        "result = 0\n",
        "for i in range(n):\n",
        "  for j in range(m):\n",
        "    if dfs(i,j) == True:\n",
        "      result += 1\n",
        "\n",
        "print(result)"
      ],
      "metadata": {
        "colab": {
          "base_uri": "https://localhost:8080/"
        },
        "id": "Snal8F3C7GgK",
        "outputId": "5a6b9ffc-20ca-46f3-fd75-4697af3d32c1"
      },
      "execution_count": 30,
      "outputs": [
        {
          "output_type": "stream",
          "name": "stdout",
          "text": [
            "15 14\n",
            "00000111100000\n",
            "11111101111110\n",
            "11011101101110\n",
            "11011101100000\n",
            "11011111111111\n",
            "11011111111100\n",
            "11000000011111\n",
            "01111111111111\n",
            "00000000011111\n",
            "01111111111000\n",
            "00011111111000\n",
            "00000001111000\n",
            "11111111110011\n",
            "11100011111111\n",
            "11100011111111\n",
            "8\n"
          ]
        }
      ]
    },
    {
      "cell_type": "markdown",
      "source": [
        "# 미로 탈출\n",
        "\n",
        "#### N X M 크기의 직사각형 형태의 미로에 갇혀 있다. 미로에는 여러 마리의 괴물이 있어 이를 피해 탈출해야 한다. 시작 위치는 (1,1)이고 미로의 출구는 (N,M)의 위치에 존재하며 한 번에 한 칸씩 이동할 수 있다. 이때 괴물이 있는 부분은 0으로 괴물이 없는 부분은 1로 표시되어 있다. 미로는 반드시 탈출할 수 있는 형태로 제시된다. 이떄 탈출하기 위해 움직여야 하는 최소 칸의 개수를 구해라. 칸을 셀 때는 시작 칸과 마지막 칸을 모두 포함하여 계산한다.\n",
        "\n",
        "입력 조건\n",
        "\n",
        "* 첫째 줄에 두 정수 N,M(4<=N, M <=200)이 주어딘다. 다음 N개의 줄에는 각각 M개의 정수(0 or 1)로 미로의 정보가 주어진다. 각각의 수들은 공백 없이 붙어서 입력으로 제시된다. 또한 시작 칸과 마지막 칸은 항상 1이다.\n",
        "\n",
        "출력조건\n",
        "\n",
        "* 첫째 줄에 최소 디오 칸의 개수를 출력한다."
      ],
      "metadata": {
        "id": "uiRx-4z_-Xl3"
      }
    },
    {
      "cell_type": "code",
      "source": [
        "from collections import deque\n",
        "\n",
        "n,m = map(int,input().split())\n",
        "\n",
        "graph = []\n",
        "for i in range(n):\n",
        "  graph.append(list(map(int,input())))\n",
        "\n",
        "#상,하,좌,우\n",
        "dx = [-1,1,0,0]\n",
        "dy = [0,0,-1,1]\n",
        "\n",
        "def bfs(x,y):\n",
        "  queue = deque()\n",
        "  queue.append((x,y))\n",
        "\n",
        "  while queue:\n",
        "    x,y = queue.popleft()\n",
        "\n",
        "    for i in range(4):  #네 방향으로 위치 확인\n",
        "      nx = x + dx[i]\n",
        "      ny = y + dy[i]\n",
        "\n",
        "      if nx < 0 or ny < 0 or nx >= n or ny >= m:  #미로 벗어나면 continue\n",
        "        continue\n",
        "\n",
        "      if graph[nx][ny] == 0:  #벽인경우 continue\n",
        "        continue\n",
        "      #해당 노드를 처음 방문하는 경우에만 최단 거리 기록\n",
        "      if graph[nx][ny] == 1:  \n",
        "        graph[nx][ny] = graph[x][y] + 1\n",
        "        queue.append((nx,ny))\n",
        "  #가장 오른쪽 아래까지의 최단 거리 반환\n",
        "  return graph[n-1][m-1]\n",
        "\n",
        "print(bfs(0,0))"
      ],
      "metadata": {
        "colab": {
          "base_uri": "https://localhost:8080/"
        },
        "id": "_S2RRKsS_FpB",
        "outputId": "3a8e774d-458b-4959-b8b6-53f0aaa09610"
      },
      "execution_count": 34,
      "outputs": [
        {
          "output_type": "stream",
          "name": "stdout",
          "text": [
            "5 6\n",
            "101010\n",
            "111111\n",
            "000001\n",
            "111111\n",
            "111111\n",
            "10\n"
          ]
        }
      ]
    }
  ]
}
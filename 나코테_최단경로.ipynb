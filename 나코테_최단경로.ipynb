{
  "nbformat": 4,
  "nbformat_minor": 0,
  "metadata": {
    "colab": {
      "provenance": []
    },
    "kernelspec": {
      "name": "python3",
      "display_name": "Python 3"
    },
    "language_info": {
      "name": "python"
    }
  },
  "cells": [
    {
      "cell_type": "markdown",
      "source": [
        "# 최단 경로\n",
        "\n",
        "#### 가장 짧은 경로를 찾는 알고리즘 = 길 찾기 문제\n"
      ],
      "metadata": {
        "id": "XhuPcsBlRnkm"
      }
    },
    {
      "cell_type": "markdown",
      "source": [
        "#### 다익스트라 알고리즘\n",
        "\n",
        "그래프에서 여러 개의 노드가 있을 때, 특정한 노드에서 출발하여 다른 노드로 가는 각각의 최단 경로를 구해주는 알고리즘.\n",
        "\n",
        "'음의 간선'이 없을 때 정상 동작한다.\n",
        "\n",
        "1. 출발 노드를 설정한다\n",
        "2. 최단 거리 테이블을 초기화한다.\n",
        "3. 방문하지 않은 노드 중에서 최단 거리가 가장 짧은 노드를 선택한다.\n",
        "4. 해당 노드를 거쳐 다른 노드로 가는 비용을 계산하여 최단 거리 테이블을 갱신한다.\n",
        "5. 위 과정에서 3번과 4번을 반복한다.\n",
        "\n",
        "구현 방법\n",
        "* 구현하기 쉽지만 느리게 동작하는 코드\n",
        "* 구현하기에 까다롭지만 빠르게 동작하는 코드\n",
        "\n"
      ],
      "metadata": {
        "id": "o8uQJ85pR78o"
      }
    },
    {
      "cell_type": "markdown",
      "source": [
        "간단한 다익스트라 알고리즘\n",
        "\n",
        "시간복잡도 = $O(V^2)$   , V: 노드의 수\n",
        "\n",
        "단계마다 방문하지 않은 노드 중에서 최단 거리가 가장 짧은 노드를 선택하기 위해 매 단계마다 1차원 리스트의 모든 원소를 확인(순차탐색)한다.\n"
      ],
      "metadata": {
        "id": "FOdguK9IVKKd"
      }
    },
    {
      "cell_type": "code",
      "execution_count": 1,
      "metadata": {
        "id": "c23AiQOMKszQ",
        "colab": {
          "base_uri": "https://localhost:8080/"
        },
        "outputId": "afca733e-f08b-4573-ea98-d2d80843196d"
      },
      "outputs": [
        {
          "output_type": "stream",
          "name": "stdout",
          "text": [
            "6 11\n",
            "1\n",
            "1 2 2\n",
            "1 3 5\n",
            "1 4 1\n",
            "2 3 3\n",
            "2 4 2\n",
            "3 2 3\n",
            "3 6 5\n",
            "4 3 3\n",
            "4 5 1\n",
            "5 3 1\n",
            "5 6 2\n",
            "0\n",
            "2\n",
            "3\n",
            "1\n",
            "2\n",
            "4\n"
          ]
        }
      ],
      "source": [
        "#간단한 다익스트라 알고리즘\n",
        "\n",
        "INF = int(1e9)\n",
        "#노드의 개수, 간선의 개수\n",
        "n, m = map(int,input().split())\n",
        "\n",
        "start = int(input()) #시작 노드\n",
        "# 각 노드에 연결되어 있는 노드에 대한 정보를 담는 리스트 생성\n",
        "graph = [[]for i in range(n+1)]\n",
        "# 방문한 적이 있는지 체크하는 목적의 리스트 생성\n",
        "visited = [False] * (n+1)\n",
        "#최단 거리 테이블을 모두 무한으로 초기화\n",
        "distance = [INF] * (n+1)\n",
        "#모든 간선 정보 입력\n",
        "for _ in range(m):\n",
        "  a,b,c = map(int,input().split())\n",
        "  #a번 노드에서 b번 노드로 가는 비용이 c라는 의미\n",
        "  graph[a].append((b,c))\n",
        "\n",
        "#방문하지 않은 노드 중에서 가장 최단 거리가 짧은 노드의 번호를 반환\n",
        "def get_smallest_node():\n",
        "  min_value = INF\n",
        "  index = 0 #가장 최단 거리가 짧은 노드(인덱스)\n",
        "  for i in range(1,n+1):\n",
        "    if distance[i] < min_value and not visited[i]:\n",
        "      min_value = distance[i]\n",
        "      index = i\n",
        "  return index\n",
        "\n",
        "\n",
        "def dijkstra(start):\n",
        "  distance[start] = 0 #시작 노드 초기화\n",
        "  visited[start] = True\n",
        "  for j in graph[start]: # j = a번째 노드에서 갈 수 있는 노드와 거리\n",
        "    #j[0]: 목적 노드, j[1] : 거리\n",
        "    distance[j[0]] = j[1] #distance = 숫자들(거리)의 list\n",
        "  # 시작 노드를 제외한 전체 n-1개의 노드에 대해 반복\n",
        "  for i in range(n-1):\n",
        "    #현재 최단 거리가 가장 짧은 노드를 꺼내서 방문 처리\n",
        "    now = get_smallest_node()\n",
        "    visited[now] = True\n",
        "    #현재 노드와 연결된 다른 노드를 확인\n",
        "    for j in graph[now]:\n",
        "      # 현재까지의 노드 값 + 현재 노드와 연결된 노드의 값\n",
        "      cost = distance[now] + j[1]\n",
        "      #현재 노드를 거쳐서 다른 노드로 이동하는 거리가 더 짧은 경우\n",
        "      if cost < distance[j[0]]:\n",
        "        distance[j[0]] = cost\n",
        "\n",
        "dijkstra(start)\n",
        "#모든 노드로 가기 위한 최단 거리를 출력\n",
        "for i in range(1,n+1):\n",
        "\n",
        "  if distance[i] == INF:\n",
        "    print(\"Infinity\")\n",
        "  else:\n",
        "    print(distance[i])"
      ]
    },
    {
      "cell_type": "markdown",
      "source": [
        "개선된 다익스트라 알고리즘\n",
        "\n",
        "시간 복잡도 : $O(Elog{}{V})$ , V = 노드의 개수, E = 간선의 개수\n",
        "\n",
        "힙 자료구조 사용 -> 특정 노드까지의 최단 거리에 대한 정보를 힙에 담아서 처리하므로 출발 노드로부터 가장 거리가 짧은 노드를 더욱 빠르게 찾을 수 있다.\n",
        "\n",
        "* 우선순위 큐 : 우선순위가 가장 높은 데이터를 가장 먼저 삭제.\n",
        "\n",
        "파이썬에서 우선순위 큐가 필요할때 PriorityQueue 혹은 heapq를 사용한다.\n",
        "\n",
        "주로 heapq 사용.\n",
        "\n",
        "첫 번째 원소를 기준으로 우선순위를 설정한다. 예를 들어, 데이터가 (가치, 물건)이라면 가치값이 우선순위 값이 된다.\n",
        "\n",
        "* 최소힙 : 값이 낮은 데이터가 먼저 삭제\n",
        "* 최대힙 : 값이 높은 데이터가 먼저 삭제\n",
        "\n",
        "-> 최소힙을 사용하여 다익스트라 알고리즘에 적용할 수 있다.\n",
        "\n",
        "기본 원리는 동일하지만,\n",
        "현재 가장 가까운 노드를 저장하기 위한 목적으로만 우선순위 큐를 추가로 이용하는 것이다.\n",
        "\n",
        "최단 거리가 가장 짧은 노드를 선택하는 과정을 다익스트라 최단 경로 함수 내부에서 우선순위 큐를 이용하는 방식으로 get_smallest_node()함수를 대체했다."
      ],
      "metadata": {
        "id": "lmNBN2Rfkb1b"
      }
    },
    {
      "cell_type": "code",
      "source": [
        "#개선된 다익스트라\n",
        "import heapq\n",
        "INF = int(1e9)\n",
        "\n",
        "n,m = map(int,input().split())\n",
        "\n",
        "start = int(input())\n",
        "\n",
        "graph = [[]for i in range(n+1)]\n",
        "\n",
        "distance = [INF]*(n+1)\n",
        "\n",
        "for _ in range(m):\n",
        "  a,b,c = map(int,input().split())\n",
        "  graph[a].append((b,c))\n",
        "\n",
        "\n",
        "def dijkstra(start):\n",
        "  q = []\n",
        "  #시작 노드로 가기 위한 최단 경로는 0으로 설정하여 큐에 삽입\n",
        "  heapq.heappush(q,(0,start))\n",
        "  distance[start] = 0\n",
        "\n",
        "  while q: #큐가 비어있지 않다면\n",
        "    #가장 최단 거리가 짧은 노드에 대한 정보 꺼내기\n",
        "    dist, now = heapq.heappop(q)\n",
        "    #현재 노드가 이미 처리된 적이 있는 노드라면 무시\n",
        "    if distance[now] < dist:\n",
        "      continue\n",
        "    #현재 노드와 연결된 다른 인접한 노드들을 확인\n",
        "    for i in graph[now]:\n",
        "      cost = dist + i[1]\n",
        "      #현재 노드를 거쳐서 다른 노드로 이동하는 거리가 더 짧은 경우\n",
        "      if cost < distance[i[0]]:\n",
        "        distance[i[0]] = cost\n",
        "        heapq.heappush(q,(cost,i[0]))\n",
        "\n",
        "dijkstra(start)\n",
        "\n",
        "for i in range(1,n+1):\n",
        "  if distance[i] == INF:\n",
        "    print(\"Infinity\")\n",
        "  else:\n",
        "    print(distance[i])"
      ],
      "metadata": {
        "colab": {
          "base_uri": "https://localhost:8080/"
        },
        "id": "ndqqgZj2m5E5",
        "outputId": "38dc7438-d72b-4ae8-d04f-49e6b2795bfa"
      },
      "execution_count": 3,
      "outputs": [
        {
          "output_type": "stream",
          "name": "stdout",
          "text": [
            "6 11\n",
            "1\n",
            "1 2 2\n",
            "1 3 5\n",
            "1 4 1\n",
            "2 3 3\n",
            "2 4 2\n",
            "3 2 3\n",
            "3 6 5\n",
            "4 3 3\n",
            "4 5 1\n",
            "5 3 1\n",
            "5 6 2\n",
            "0\n",
            "2\n",
            "3\n",
            "1\n",
            "2\n",
            "4\n"
          ]
        }
      ]
    },
    {
      "cell_type": "markdown",
      "source": [
        "#### 플로이드 워셜 알고리즘\n",
        "\n",
        "모든 지점에서 다른 모든 지점까지의 최단 경로를 모두 구해야 하는 경우에 사용하는 알고리즘.\n",
        "\n",
        "단계마다 거쳐가는 노드를 기준으로 알고리즘을 수행한다. 총 시간 복잡도는 $O(N^3)$이다.\n",
        "\n",
        "\n",
        "* 다익스트라 알고리즘과의 차이점 : 다익스트라 알고리즘은 한 지점에서 다른 특정 지점까지의 최단 경로를 구해야 하는 경우에 사용한다.\n",
        "\n"
      ],
      "metadata": {
        "id": "hSmAGfIJxPTh"
      }
    },
    {
      "cell_type": "code",
      "source": [
        "#플로이드 워셜 알고리즘\n",
        "INF = int(1e9)\n",
        "\n",
        "n = int(input())\n",
        "m = int(input())\n",
        "\n",
        "#2차원 리스트를 만들고, 모든 값을 무한으로 초기화\n",
        "graph = [[INF]*(n+1) for _ in range(n+1)]\n",
        "\n",
        "#자기 자신에서 자기 자신으로 가는 비용은 0\n",
        "for a in range(1,n+1):\n",
        "  for b in range(1,n+1):\n",
        "    if a == b:\n",
        "      graph[a][b] = 0\n",
        "\n",
        "#각 간선에 대한 정보를 입력바당, 그 값으로 초기화\n",
        "for _ in range(m):\n",
        "  #A에서 B로 가는 비용은 C라고 설정\n",
        "  a,b,c = map(int,input().split())\n",
        "  graph[a][b] = c\n",
        "\n",
        "#점화식에 따라 플로이드 워셜 알고리즘을 수행\n",
        "for k in range(1,n+1):\n",
        "  for a in range(1,n+1):\n",
        "    for b in range(1,n+1):\n",
        "      graph[a][b] = min(graph[a][b], graph[a][k] + graph[k][b])\n",
        "\n",
        "#수행된 결과를 출력\n",
        "for a in range(1,n+1):\n",
        "  for b in range(1,n+1):\n",
        "    #도달할 수 없는 경우, 무한으로 출력\n",
        "    if graph[a][b] == INF:\n",
        "      print(\"Infinity\",end = ' ')\n",
        "    else:\n",
        "      print(graph[a][b], end = ' ')\n",
        "  print()"
      ],
      "metadata": {
        "colab": {
          "base_uri": "https://localhost:8080/"
        },
        "id": "Jn7pInFzzgvk",
        "outputId": "e79aa1cd-f196-4cd2-84ce-0e2a4276231c"
      },
      "execution_count": 4,
      "outputs": [
        {
          "output_type": "stream",
          "name": "stdout",
          "text": [
            "4\n",
            "7\n",
            "1 2 4\n",
            "1 4 6\n",
            "2 1 3\n",
            "2 3 7\n",
            "3 1 5\n",
            "3 4 4\n",
            "4 3 2\n",
            "0 4 8 6 \n",
            "3 0 7 9 \n",
            "5 9 0 4 \n",
            "7 11 2 0 \n"
          ]
        }
      ]
    },
    {
      "cell_type": "markdown",
      "source": [
        "#### 미래 도시\n",
        "\n",
        "공중 미래 도시에는 1번부터 N번까지의 회사가 있는데 특정 회사끼리는 서로 도로를 통해 연결되어 있다. 방문 판매원 A는 현재 1번 회사에 위치해 있으며, X번 회사에 방문해 물건을 판매하고자 한다.\n",
        "\n",
        "공중 미래 도시에서 특정 회사에 도착하기 위한 방법은 회사끼리 연결되어 있는 도로를 이용하는 방법이 유일하다. 또한 연결된 2개의 회사는 양방향으로 이동 가능하다. 공중 미래 도시에서의 도로는 마하의 속도로 사람을 이동시켜주기 때문에 특정 회사와 다른 회사가 도로로 연결되어 있다면, 정확히 1만큼의 시간으로 이동한다.\n",
        "\n",
        "A씨는 소개팅에도 참석하고자 한다. 소개팅의 상대는 K번 회사에 존재한다. A는 X번 회사에 가서 물건을 판매하기 전에 먼저 소개팅 상대의 회사에 찾아가서 함께 커피를 마실 예상이다.A는 1번 회사에서 출발하여 K번 회사를 방문한 뒤 X번 회사로 가는 것이 목표이다. 이때 가능한 빠르게 이동하고자 한다. 방문 판매원이 회사 사이를 이동하게 되는 최소 시간을 계산하는 프로그램을 작성하시오.\n",
        "\n",
        "입력 조건\n",
        "* 첫째 줄에 전체 회사의 개수 N과 경로의 개수 M이 공백으로 구분되어 차례대로 주어진다. ($1 \\leq N,M \\leq 100$)\n",
        "* 둘째 줄부터 M + 1 번째 줄에는 연결된 두 회사의 번호가 공백으로 구분되어 주어진다.\n",
        "* M + 2번째 줄에는 X와 K가 공백으로 구분되어 차례대로 주어진다. ($1 \\leq K \\leq 100$)\n",
        "\n",
        "출력 조건\n",
        "* 첫째 줄에 방문 판매원 A가 K번 회사를 거쳐 X번 회사로 가는 최소 이동 시간을 출력한다.\n",
        "* 만약 X번 회사에 도달할 수 없다면 -1을 출력한다."
      ],
      "metadata": {
        "id": "2KE0oDC000w_"
      }
    },
    {
      "cell_type": "code",
      "source": [
        "INF = int(1e9)\n",
        "\n",
        "n,m = map(int,input().split())\n",
        "\n",
        "graph = [[INF]*(n+1) for _ in range(n+1)]\n",
        "\n",
        "for a in range(1,n+1):\n",
        "  for b in range(1,n+1):\n",
        "    if a == b:\n",
        "      graph[a][b] = 0\n",
        "\n",
        "#각 간선에 대한 정보를 입력받아 그 값으로 초기화\n",
        "for _ in range(m):\n",
        "  #A와 B가 서로에게 가는 비용은 1이라고 설정\n",
        "  a,b = map(int,input().split())\n",
        "  graph[a][b] = 1\n",
        "  graph[b][a] = 1\n",
        "\n",
        "#거쳐 갈 노드 X와 최종 목적지 노드 K를 입력받기\n",
        "x,k = map(int,input().split())\n",
        "\n",
        "#점화식에 따라 플로이드 워셜 알고리즘 수행\n",
        "for k in range(1,n+1):\n",
        "  for a in range(1,n+1):\n",
        "    for b in range(1,n+1):\n",
        "      graph[a][b] = min(graph[a][b],graph[a][k]+graph[k][b])\n",
        "\n",
        "#수행된 결과를 출력\n",
        "distance = graph[1][k] + graph[k][x]\n",
        "#도달할 수 없는 경우 -1출력\n",
        "if distance >= INF:\n",
        "  print(\"-1\")\n",
        "\n",
        "else:\n",
        "  print(distance)\n"
      ],
      "metadata": {
        "colab": {
          "base_uri": "https://localhost:8080/"
        },
        "id": "1smPEAIA16Zj",
        "outputId": "93c17856-9474-45b9-ab1b-f4251e4a000f"
      },
      "execution_count": 7,
      "outputs": [
        {
          "output_type": "stream",
          "name": "stdout",
          "text": [
            "5 7\n",
            "1 2\n",
            "1 3\n",
            "1 4\n",
            "2 4\n",
            "3 4\n",
            "3 5\n",
            "4 5\n",
            "4 5\n",
            "3\n"
          ]
        }
      ]
    },
    {
      "cell_type": "markdown",
      "source": [
        "#### 전보\n",
        "\n",
        "N개의 도시가 있다. 각 도시는 보내고자 하는 메시지가 있는 경우, 다른 도시로 전보를 보내서 다른 도시로 해당 메시지를 전송할 수 잇따. 하지만 X라는 도시에서 Y라는 도시로 전보를 보내고자 한다면, 도시 X에서 Y로 향하는 통로가 설치되어 있어야한다. 통로를 거쳐 메시지를 보낼 때는 일정 시간이 소요된다. 어느날 C라는 도시에서 위급상황이 발생해, 최대한 많은 도시로 메시지를 보내고자 한다. 메시지는 C에서 출발하여 각 도시 사이에 설치된 통로를 거쳐, 최대한 많이 퍼져나갈 것이다. 각 도시의 번호와 통로가 설치되어 있는 정보가 주어졌을 때, 도시 C에서 보낸 메시지를 받게 되는 도시의 개수는 총 몇개이며 도시들이 모두 메시지를 받는 데까지 걸리는 시간은 얼마인지 계산하는 프로그램을 작성하시오.\n",
        "\n",
        "입력 조건\n",
        "* 첫째 줄에 도시의 개수 N, 통로의 개수 M, 메시지를 보내고자 하는 도시 C가 주어진다. ($ 1 \\leq N \\leq 30,000.  1 \\leq M \\leq 200,000.  1 \\leq C \\leq N$)\n",
        "* 둘째 줄부터 M + 1번째 줄에 걸쳐서 통로에 대한 정보 X,Y,Z가 주어진다. 이는 특정 도시 X에서 다른 특정 도시 Y로 이어지는 통로가 있으며, 메시지가 전달되는 시간이 Z라는 의미다. ($ 1 \\leq X ,Y \\leq N. 1 \\leq Z \\leq 1,000$)\n",
        "\n",
        "출력 조건\n",
        "* 첫째 줄에 도시 C에서 보낸 메시지를 받는 도시의 총 개수와 총 걸리는 시간을 공백으로 구분하여 출력한다.\n"
      ],
      "metadata": {
        "id": "8ZBjCfOJ9SNo"
      }
    },
    {
      "cell_type": "code",
      "source": [
        "import heapq\n",
        "\n",
        "INF = int(1e9)\n",
        "\n",
        "n,m, start = map(int,input().split())\n",
        "\n",
        "graph = [[]for i in range(n+1)]\n",
        "\n",
        "distance = [INF] * (n+1)\n",
        "#모든 간선 정보 입력받기\n",
        "for _ in range(m):\n",
        "  x,y,z = map(int,input().split())\n",
        "  #x번 노드에서 y번 노드로 가는 비용이 z\n",
        "  graph[x].append((y,z))\n",
        "\n",
        "def dijkstra(start):\n",
        "  q = []\n",
        "  #시작 노드로 가기 위한 최단 경로는 0으로 설정하여 큐에 삽입\n",
        "  heapq.heappush(q,(0,start))\n",
        "  distance[start] = 0\n",
        "  while q:\n",
        "    #가장 최단 거리가 짧은 노드에 대한 정보 꺼내기\n",
        "    dist, now = heapq.heappop(q)\n",
        "    if distance[now] < dist:\n",
        "      continue\n",
        "    #현재 노드와 연결된 다른 인접한 노드들을 확인\n",
        "    for i in graph[now]:\n",
        "      cost = dist + i[1]\n",
        "      #현재 노드를 거쳐서, 다른 노드로 이동하는 거리가 더 짧은 경우\n",
        "      if cost < distance[i[0]]:\n",
        "        distance[i[0]] = cost\n",
        "        heapq.heappush(q,(cost,i[0]))\n",
        "\n",
        "dijkstra(start)\n",
        "# 도달할 수 있는 노드의 개수\n",
        "cnt = 0\n",
        "#도달할 수있는 노드 중에서, 가장 멀리 있는 노드와의 최단 거리\n",
        "max_distance = 0\n",
        "for d in distance:\n",
        "  #도달 할 수 있는 노드의 경우\n",
        "  if d != INF:\n",
        "    cnt += 1\n",
        "    max_distance = max(max_distance,d)\n",
        "#시작 노드는 제외 -1\n",
        "print(cnt -1, max_distance)"
      ],
      "metadata": {
        "colab": {
          "base_uri": "https://localhost:8080/"
        },
        "id": "6WPybcuX-u-o",
        "outputId": "247529bc-88db-4e86-f757-9dbd3fad6c7e"
      },
      "execution_count": 8,
      "outputs": [
        {
          "output_type": "stream",
          "name": "stdout",
          "text": [
            "3 2 1\n",
            "1 2 4\n",
            "1 3 2\n",
            "2 4\n"
          ]
        }
      ]
    }
  ]
}
{
  "nbformat": 4,
  "nbformat_minor": 0,
  "metadata": {
    "colab": {
      "provenance": []
    },
    "kernelspec": {
      "name": "python3",
      "display_name": "Python 3"
    },
    "language_info": {
      "name": "python"
    }
  },
  "cells": [
    {
      "cell_type": "markdown",
      "source": [
        "#그리디\n",
        "\n",
        "####거스름돈\n",
        "동전을 최소화하여 거스름돈으로 줘야한다. 500원, 100원, 50원, 10원짜리의 동전이 무한히 존재한다고 가정한다. 손님에게 거슬러 줘야 할 돈이 N원일 때, 거슬러 주어야 할 동전의 최소 개수를 구하라. 단, 거슬러 줘야 할 돈 N은 항상 10의 배수이다."
      ],
      "metadata": {
        "id": "1LHCdLSfpfvO"
      }
    },
    {
      "cell_type": "code",
      "execution_count": 34,
      "metadata": {
        "colab": {
          "base_uri": "https://localhost:8080/"
        },
        "id": "iR-Mi1xTySe9",
        "outputId": "d9f6610a-ccca-4eb0-fb50-e5278c2cc917"
      },
      "outputs": [
        {
          "output_type": "stream",
          "name": "stdout",
          "text": [
            "6\n"
          ]
        }
      ],
      "source": [
        "n = 1260    #거슬러 주어야 할 돈\n",
        "count = 0   #거슬러 준 동전의 개수\n",
        "\n",
        "coin_type = [500,100,50,10]  #동전의 종류\n",
        "\n",
        "for i in coin_type:  \n",
        "  count += n // i  #거슬러줄 돈 n에서 동전을 거슬러준 개수\n",
        "  n %= i           #남은 돈 계산\n",
        "print(count)"
      ]
    },
    {
      "cell_type": "markdown",
      "source": [
        "#### 큰 수의 법칙\n",
        "\n",
        "배열의 크기 n, 숫자가 더해지는 횟수 m, 숫자가 최대로 연속할 수 있는 횟수 k가 주어질때, 가장 큰 숫자를 만드는 방법."
      ],
      "metadata": {
        "id": "mo9ACLX-qyQO"
      }
    },
    {
      "cell_type": "code",
      "source": [
        "n,m,k = map(int, input().split())\n",
        "data = list(map(int,input().split())) #입력될 숫자 리스트\n",
        "\n",
        "data.sort()  #리스트를 크기순으로 정렬해준다.\n",
        "first = data[n-1] #리스트의 숫자 중 가장 큰 수\n",
        "second = data[n-2] #리스트의 숫자 중 두번째로 큰 수\n",
        "\n",
        "result = 0\n",
        "\n",
        "while True:\n",
        "  for i in range(k): #최대 연속할 수 있는 k번만큼 반복\n",
        "    if m == 0: #원하는 횟수가 되면 break\n",
        "      break\n",
        "    result += first #가장 큰 수 중복하여 더한다\n",
        "    m -=1 #반복문이 돌면서 횟수 1씩 차감\n",
        "  \n",
        "  if m == 0: #원하는 횟수가 되면 break\n",
        "    break\n",
        "  result += second #두번째로 큰수를 한번 더해주어야 큰수를 다시 더할 수 있으므로 한번만 더해준다.\n",
        "  m -= 1 #한 번 더해주었으니 횟수 차감\n",
        "  \n",
        "print(result)\n",
        "\n"
      ],
      "metadata": {
        "colab": {
          "base_uri": "https://localhost:8080/"
        },
        "id": "b4EA4rjjWRjY",
        "outputId": "7b09fdf0-ccbf-48d4-a161-632465d44c5a"
      },
      "execution_count": 13,
      "outputs": [
        {
          "output_type": "stream",
          "name": "stdout",
          "text": [
            "5 8 3\n",
            "2 4 5 4 6\n",
            "46\n"
          ]
        }
      ]
    },
    {
      "cell_type": "markdown",
      "source": [
        "#### 숫자 카드 게임\n",
        "\n",
        "1. 숫자가 쓰인 카드들이 n x m 형태로 놓여있다. 이때 n은 행의 개수를 의미하여, m은 열의 개수를 의미한다.\n",
        "\n",
        "2. 먼저 뽑고자 하는 카드가 포함되어 있는 행을 선택한다.\n",
        "\n",
        "3. 그다음 선택된 행에 포함된 카드들 중 가장 숫자가 낮은 카드를 뽑아야 한다.\n",
        "\n",
        "4. 따라서 처음에 카드를 골라낼 행을 선택할 때, 이후에 해당 행에서 가장 숫자가 낮은 카드를 뽑을 것을 고려하여 최종적으로 가장 높은 숫자의 카드를 뽑을 수 있도록 전략을 세워야 한다."
      ],
      "metadata": {
        "id": "HYcHjeXWsIwK"
      }
    },
    {
      "cell_type": "code",
      "source": [
        "n,m = map(int,input().split())\n",
        "\n",
        "result = 0\n",
        "\n",
        "for i in range(n): #행의 개수만큼 반복\n",
        "  data = list(map(int,input().split()))\n",
        "  min_value = min(data) #행 별로 작은값 선택\n",
        "  result = max(result,min_value)  #result와 행 별 작은값중 큰값을 result로 초기화\n",
        "\n",
        "print(result)"
      ],
      "metadata": {
        "colab": {
          "base_uri": "https://localhost:8080/"
        },
        "id": "P43Dm4N4ZW0Z",
        "outputId": "25be2469-8134-4aaa-eff9-825cb0dcfa53"
      },
      "execution_count": 38,
      "outputs": [
        {
          "output_type": "stream",
          "name": "stdout",
          "text": [
            "3 3\n",
            "3 1 2\n",
            "4 1 4\n",
            "2 2 2\n",
            "2\n"
          ]
        }
      ]
    },
    {
      "cell_type": "markdown",
      "source": [
        "#### 1이 될 때까지\n",
        "\n",
        "어떠한 수 n이 1이 될 때까지 다음의 두과정 중 하나를 반복적으로 선택하여 수행하려고 한다. 단, 두 번째 연산은 n이 k로 나누어떨어질 때만 선택할 수 있다.\n",
        "\n",
        "1. n에서 1을 뺀다.\n",
        "\n",
        "2. n을 k로 나눈다."
      ],
      "metadata": {
        "id": "F9Dt6XtmuhS7"
      }
    },
    {
      "cell_type": "code",
      "source": [
        "n, k = map(int,input().split())\n",
        "cnt = 0\n",
        "\n",
        "while n > 1:#n이 1이 될때까지 반복\n",
        "  if n%k == 0:  # n이 k로 나누어 떨어지는 경우\n",
        "    n /= k  #n = n/k\n",
        "    cnt += 1 # 횟수 1회추가\n",
        "  else:  # n이 k로 나누어 떨어지지 않는 경우\n",
        "    n -= 1   # n = n - 1\n",
        "    cnt += 1  # 횟수 1회 추가\n",
        "\n",
        "print(cnt)"
      ],
      "metadata": {
        "colab": {
          "base_uri": "https://localhost:8080/"
        },
        "id": "Xn75mJpJkmZR",
        "outputId": "ff43141b-e052-48b8-88b9-c3e1e464c31f"
      },
      "execution_count": 39,
      "outputs": [
        {
          "output_type": "stream",
          "name": "stdout",
          "text": [
            "25 5\n",
            "2\n"
          ]
        }
      ]
    }
  ]
}
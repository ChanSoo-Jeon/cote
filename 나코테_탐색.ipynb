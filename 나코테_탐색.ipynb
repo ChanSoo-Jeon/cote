{
  "nbformat": 4,
  "nbformat_minor": 0,
  "metadata": {
    "colab": {
      "provenance": []
    },
    "kernelspec": {
      "name": "python3",
      "display_name": "Python 3"
    },
    "language_info": {
      "name": "python"
    }
  },
  "cells": [
    {
      "cell_type": "markdown",
      "source": [
        "# 나코테 정렬\n",
        "\n",
        "#### 선택 정렬\n",
        "시간 복잡도 : $O(N^2)$"
      ],
      "metadata": {
        "id": "F3C9KzuQhvSM"
      }
    },
    {
      "cell_type": "code",
      "source": [
        "arr = [7,5,9,0,3,1,6,2,4,8]\n",
        "\n",
        "for i in range(len(arr)):\n",
        "  min_idx = i  #가장 작은 원소의 인덱스\n",
        "  for j in range(i+1,len(arr)):\n",
        "    if arr[min_idx] > arr[j]:\n",
        "      min_idx = j\n",
        "  arr[i], arr[min_idx] = arr[min_idx], arr[i] #스왑\n",
        "               \n",
        "print(arr)\n",
        "               "
      ],
      "metadata": {
        "colab": {
          "base_uri": "https://localhost:8080/"
        },
        "id": "-NX_APfoh3Wm",
        "outputId": "e82651dd-3cfa-484e-c287-7292581da3ae"
      },
      "execution_count": 3,
      "outputs": [
        {
          "output_type": "stream",
          "name": "stdout",
          "text": [
            "[0, 1, 2, 3, 4, 5, 6, 7, 8, 9]\n"
          ]
        }
      ]
    },
    {
      "cell_type": "markdown",
      "source": [
        "#### 삽입정렬\n",
        "\n",
        "시간 복잡도 : $O(N^2)$"
      ],
      "metadata": {
        "id": "vuXmFukHi6jz"
      }
    },
    {
      "cell_type": "code",
      "source": [
        "arr = [7,5,9,0,3,1,6,2,4,8]\n",
        "\n",
        "for i in range(1,len(arr)):\n",
        "  for j in range(i,0,-1): #i번째부터 감소하며 반복\n",
        "    if arr[j] < arr[j-1]:\n",
        "      arr[j],arr[j-1] = arr[j-1],arr[j]\n",
        "    else:  #해당 원소보다 작은 데이터를 만나면 break\n",
        "      break\n",
        "print(arr)"
      ],
      "metadata": {
        "colab": {
          "base_uri": "https://localhost:8080/"
        },
        "id": "aEbdGH3Mir64",
        "outputId": "68034881-05d9-4cac-c5d8-2d37917519d2"
      },
      "execution_count": 4,
      "outputs": [
        {
          "output_type": "stream",
          "name": "stdout",
          "text": [
            "[0, 1, 2, 3, 4, 5, 6, 7, 8, 9]\n"
          ]
        }
      ]
    },
    {
      "cell_type": "markdown",
      "source": [
        "#### 퀵 정렬\n",
        "\n",
        "시간 복잡도\n",
        "\n",
        "최악의 경우 : $O(N^2)$\n",
        "\n",
        "평균 : $O(N\\log_{}{N})$"
      ],
      "metadata": {
        "id": "bblXTKXkkxFe"
      }
    },
    {
      "cell_type": "code",
      "source": [
        "arr = [5,7,9,0,3,1,6,2,4,8]\n",
        "\n",
        "def quick_sort(arr,start,end):\n",
        "  if start >= end:\n",
        "    return\n",
        "\n",
        "  pivot = start\n",
        "  left = start+1\n",
        "  right = end\n",
        "  while left <= right:\n",
        "    #왼쪽구간에서 pivot보다 큰 데이터 찾기\n",
        "    while left <= end and arr[left] <= arr[pivot]:\n",
        "      left += 1\n",
        "    #오른쪽 구간에서 pivot보다 작은 데이터 찾기\n",
        "    while right > start and arr[right] > arr[pivot]:\n",
        "      right -= 1\n",
        "    if left > right:  #엇갈린경우\n",
        "      arr[right],arr[pivot] = arr[pivot],arr[right]\n",
        "    else: #엇갈리지 않은 경우\n",
        "      arr[left],arr[right] = arr[right],arr[left]\n",
        "\n",
        "\n",
        "    #분할 이후 왼쪽 부분과 오른쪽 부분에서 각각 정렬\n",
        "    quick_sort(arr,start,right-1)\n",
        "    quick_sort(arr,right+1,end)\n",
        "\n",
        "quick_sort(arr,0,len(arr)-1)\n",
        "print(arr)"
      ],
      "metadata": {
        "colab": {
          "base_uri": "https://localhost:8080/"
        },
        "id": "o_ynw3otkzBO",
        "outputId": "59441c57-8996-4d27-a859-ad3d985ac4a3"
      },
      "execution_count": 5,
      "outputs": [
        {
          "output_type": "stream",
          "name": "stdout",
          "text": [
            "[0, 1, 2, 3, 4, 5, 6, 7, 8, 9]\n"
          ]
        }
      ]
    },
    {
      "cell_type": "code",
      "source": [
        "arr = [5,7,9,0,3,1,6,2,4,8]\n",
        "\n",
        "def quick_sort(arr):\n",
        "  if len(arr) <= 1:\n",
        "    return arr\n",
        "\n",
        "  pivot = arr[0]\n",
        "  #pivot을 제외한 원소들\n",
        "  tail = arr[1:]\n",
        "  \n",
        "  left_side = [x for x in tail if x <= pivot]\n",
        "  right_side = [x for x in tail if x > pivot]\n",
        "\n",
        "  return quick_sort(left_side) + [pivot] + quick_sort(right_side)\n",
        "\n",
        "print(quick_sort(arr))"
      ],
      "metadata": {
        "colab": {
          "base_uri": "https://localhost:8080/"
        },
        "id": "LAx-dN6yi5he",
        "outputId": "2a5cd5f1-be0e-452f-8c48-b055c2033957"
      },
      "execution_count": 6,
      "outputs": [
        {
          "output_type": "stream",
          "name": "stdout",
          "text": [
            "[0, 1, 2, 3, 4, 5, 6, 7, 8, 9]\n"
          ]
        }
      ]
    },
    {
      "cell_type": "markdown",
      "source": [
        "#### 계수 정렬\n",
        "\n",
        "특정한 조건이 부합할 때만 사용할 수 있는 매우 빠른 정렬 알고리즘\n",
        "\n",
        "시간 복잡도 : $O(N + K)$"
      ],
      "metadata": {
        "id": "bBpMqZcMr1mZ"
      }
    },
    {
      "cell_type": "code",
      "source": [
        "arr = [7,5,9,0,3,1,6,2,9,1,4,8,0,5,2]\n",
        "\n",
        "cnt = [0] * (max(arr)+1)\n",
        "\n",
        "for i in range(len(arr)):\n",
        "  cnt[arr[i]] += 1\n",
        "  \n",
        "\n",
        "for i in range(len(cnt)):\n",
        "  for j in range(cnt[i]):\n",
        "    print(i, end = ' ')"
      ],
      "metadata": {
        "colab": {
          "base_uri": "https://localhost:8080/"
        },
        "id": "Kr9qzWN8sB2R",
        "outputId": "3ef920f2-ffd6-4da6-a72a-10ffe0cb4b9a"
      },
      "execution_count": 9,
      "outputs": [
        {
          "output_type": "stream",
          "name": "stdout",
          "text": [
            "0 0 1 1 2 2 3 4 5 5 6 7 8 9 9 "
          ]
        }
      ]
    },
    {
      "cell_type": "markdown",
      "source": [
        "#### 위에서 아래로\n",
        "\n",
        "큰 수 부터 작은 수의 순서로 정렬. 수열을 내림차순으로 정렬하는 프로그램\n",
        "\n",
        "입력 조건\n",
        "\n",
        "* 첫째 줄에 수열에 속해 있는 수의 개수 N이 주어진다. ($1 \\leq N \\leq 500$)\n",
        "* 둘째 줄부터 N + 1 번째 줄까지 N개의 수가 입력된다. 수의 범위는 1이상 100000 이하의 자연수이다.\n",
        "\n",
        "출력 조건\n",
        "\n",
        "* 입력으로 주어진 수열이 내림차숭능로 정렬된 결과를 공백으로 구분하여 출력한다. 동일한 수의 순서는 자유롭게 출력해도 괜찮다."
      ],
      "metadata": {
        "id": "_quLn7eh-m6D"
      }
    },
    {
      "cell_type": "code",
      "source": [
        "n = int(input())\n",
        "\n",
        "arr = []\n",
        "for i in range(n):\n",
        "  arr.append(int(input()))\n",
        "\n",
        "arr = sorted(arr,reverse=True)\n",
        "\n",
        "for i in arr:\n",
        "  print(i,end= ' ')"
      ],
      "metadata": {
        "colab": {
          "base_uri": "https://localhost:8080/"
        },
        "id": "TE3yGRbQ-V7n",
        "outputId": "be884323-8043-46c6-dbd6-69e19daa9b3a"
      },
      "execution_count": 13,
      "outputs": [
        {
          "output_type": "stream",
          "name": "stdout",
          "text": [
            "3\n",
            "15\n",
            "27\n",
            "12\n",
            "27 15 12 "
          ]
        }
      ]
    },
    {
      "cell_type": "markdown",
      "source": [
        "#### 성적이 낮은 순서로 학생 출력하기\n",
        "\n",
        "N명의 학생 정보가 있다. 학생 정보는 학생의 이름과 학생의 성적으로 구분된다. 각 학생의 이름과 성적 정보가 주어졌을 때, 성적이 낮은 순서대로 학생의 이름을 출력하는 프로그램.\n",
        "\n",
        "입력 조건\n",
        "\n",
        "* 첫 번째 줄에 학생의 수 N이 입력된다. ($1 \\leq N \\leq 100000$)\n",
        "\n",
        "* 두 번째 줄부터 N + 1번째 줄에는 학생의 이름을 나타내는 문자열 A와 학생의 성적을 나타내는 정수 B가 공백으로 구분되어 입력된다. 문자열 A의 길이와 학생의 성적은 100 이하의 자연수.\n",
        "\n",
        "출력 조건\n",
        "\n",
        "* 모든 학생의 이름을 성적이 낮은 순서대로 출력한다. 성적이 동일한 학생들의 순서는 자유롭게 출력하여도 괜찮다.\n",
        "\n"
      ],
      "metadata": {
        "id": "_SMfibwbALEL"
      }
    },
    {
      "cell_type": "code",
      "source": [
        "n = int(input())\n",
        "\n",
        "arr = []\n",
        "for i in range(n):\n",
        "  input_data = input().split()\n",
        "  #이름은 문자열로 점수는 정수형으로 저장\n",
        "  arr.append((input_data[0],int(input_data[1])))\n",
        "\n",
        "#lambda를 이용한 sorting\n",
        "arr = sorted(arr,key=lambda x : x[1])\n",
        "\n",
        "#함수를 이용한 sorting\n",
        "def setting(x):\n",
        "  return x[1]\n",
        "arr = sorted(arr,key=setting)\n",
        "\n",
        "for i in arr:\n",
        "  print(i[0],end = ' ')"
      ],
      "metadata": {
        "colab": {
          "base_uri": "https://localhost:8080/"
        },
        "id": "Che8TSd0AtZq",
        "outputId": "598b5745-db00-48fa-a89b-54a941434b75"
      },
      "execution_count": 20,
      "outputs": [
        {
          "output_type": "stream",
          "name": "stdout",
          "text": [
            "2\n",
            "이순신 20\n",
            "홍길동 40\n",
            "이순신 홍길동 "
          ]
        }
      ]
    },
    {
      "cell_type": "markdown",
      "source": [
        "#### 두 배열의 원소 교체\n",
        "\n",
        "두 배열 A와 B는 N개의 원소로 구성되어 있다. 배열의 원소는 모두 자연수이다. 최대 K번의 바꿔치기 연산을 수행 가능하다. 바꿔치기 연산이란 배열 A에 있는 원소 하나와 배열 B에 있는 원소 하나를 골라서 두 원소를 서로 바꾸는 것을 말한다. 최종 목표로 배열 A의 모든 원소의 합이 최대가 되도록 하는 것이다.\n",
        "N,K 그리고 배열 A와B의 정보가 주어졌을 떄, 최대 K번의 바꿔치기 연산을 수행하여 만들 수 있는 배열 A의 모든 원소의 합의 최댓값을 출력하는 프로그램\n",
        "\n",
        "입력 조건\n",
        "\n",
        "* 첫 번째 줄에 N,K가 공백으로 구분되어 입력된다. ($1 \\leq N \\leq 100000, 0 \\leq K \\leq N$)\n",
        "\n",
        "* 두 번째 줄에 배열 A의 원소들이 공백으로 구분되어 입력된다. 모든 원소는 10000000보다 작은 자연수이다.\n",
        "\n",
        "* 세 번째 줄에 배열 B의 원소들이 공백으로 구분되어 입력된다. 모든 원소는 10000000보다 작은 자연수이다.\n",
        "\n",
        "출력 조건\n",
        "* 최대 K번의 바꿔치기 연산을 수행하여 만들 수 있는 배열 A의 모든 원소의 합의 최댓값을 출력한다."
      ],
      "metadata": {
        "id": "HyrNwDtuCaz_"
      }
    },
    {
      "cell_type": "code",
      "source": [
        "n,k = map(int,input().split())\n",
        "\n",
        "a = list(map(int,input().split()))\n",
        "b = list(map(int,input().split()))\n",
        "\n",
        "a.sort()\n",
        "b.sort()\n",
        "\n",
        "for i in range(k):\n",
        "  if a[i] < b[-i-1]:\n",
        "    a[i] ,b[-i-1] = b[-i-1],a[i]\n",
        "  else:\n",
        "    break\n",
        "\n",
        "print(sum(a))"
      ],
      "metadata": {
        "colab": {
          "base_uri": "https://localhost:8080/"
        },
        "id": "cBryPWCeDZPv",
        "outputId": "aeab5e39-832c-4ee2-92c1-8a734144046e"
      },
      "execution_count": 26,
      "outputs": [
        {
          "output_type": "stream",
          "name": "stdout",
          "text": [
            "5 3\n",
            "1 2 5 4 3\n",
            "5 5 6 6 5\n",
            "26\n"
          ]
        }
      ]
    }
  ]
}